{
  "nbformat": 4,
  "nbformat_minor": 0,
  "metadata": {
    "colab": {
      "name": "HW1.ipynb",
      "provenance": [],
      "collapsed_sections": []
    },
    "kernelspec": {
      "name": "python3",
      "display_name": "Python 3"
    }
  },
  "cells": [
    {
      "cell_type": "code",
      "metadata": {
        "id": "wVnsdJvXLogU",
        "colab_type": "code",
        "colab": {
          "base_uri": "https://localhost:8080/",
          "height": 34
        },
        "outputId": "382f8688-b885-461d-a52d-5c0207992a7a"
      },
      "source": [
        "import numpy as np\n",
        "\n",
        "np.random.seed(59802020)\n",
        "\n",
        "n = 50\n",
        "m = 200\n",
        "r = 10\n",
        "\n",
        "A = np.random.randn(n,r)\n",
        "B = np.random.randn(r,m)\n",
        "X = np.matmul(A,B)+0.01*np.random.randn(n,m)\n",
        "\n",
        "X -= np.mean(X,axis=1).reshape(n,1)\n",
        "\n",
        "print(A[0,0])"
      ],
      "execution_count": 9,
      "outputs": [
        {
          "output_type": "stream",
          "text": [
            "-1.4417216631593655\n"
          ],
          "name": "stdout"
        }
      ]
    },
    {
      "cell_type": "code",
      "metadata": {
        "id": "q6IWmV_8L6v1",
        "colab_type": "code",
        "colab": {}
      },
      "source": [
        "V = np.cov(X)\n",
        "values, vectors = np.linalg.eig(V)\n",
        "index = np.argsort(values)[::-1]\n",
        "vectors = vectors[:,index][:,:10]\n",
        "#P = vectors.T.dot(X)\n",
        "A1 = vectors\n",
        "# print('matrix A1 = \\n',A1)"
      ],
      "execution_count": 0,
      "outputs": []
    },
    {
      "cell_type": "code",
      "metadata": {
        "id": "QbVtb48cMz16",
        "colab_type": "code",
        "colab": {}
      },
      "source": [
        "def linesearch(grad,A_vec):\n",
        "  alpha = 1\n",
        "  c = 0.01\n",
        "  p = 0.9\n",
        "  delta = - grad\n",
        "  l = np.linalg.norm(np.dot(grad.T,delta),'fro')\n",
        "  while c*alpha*l < (loss(A_vec+alpha*delta) - loss(A_vec)):\n",
        "    alpha *= p\n",
        "  return alpha"
      ],
      "execution_count": 0,
      "outputs": []
    },
    {
      "cell_type": "code",
      "metadata": {
        "id": "adGl6vC8M51Z",
        "colab_type": "code",
        "colab": {}
      },
      "source": [
        "# backtracking line search\n",
        "A2 = A\n",
        "loss = lambda v : np.linalg.norm(np.dot(X - np.dot(np.dot(v,v.T),X),(X - np.dot(np.dot(v,v.T),X)).T), 'fro')\n",
        "gradient = lambda a : -4*np.dot(np.dot(a.T,X),(X-np.dot(np.dot(a,a.T),X)).T)\n",
        "while True:\n",
        "  grad = gradient(A2).T\n",
        "  alpha = linesearch(grad, A2)\n",
        "  A2 -= alpha*grad\n",
        "  if loss(A2) < 0.14:\n",
        "    break\n",
        "# print(A2)"
      ],
      "execution_count": 0,
      "outputs": []
    },
    {
      "cell_type": "code",
      "metadata": {
        "id": "H4-b5foLSosc",
        "colab_type": "code",
        "colab": {
          "base_uri": "https://localhost:8080/",
          "height": 34
        },
        "outputId": "98cd3a91-0bc1-4f89-d396-bd9b71f8217b"
      },
      "source": [
        "result = np.linalg.norm(np.dot(A1,A1.T)-np.dot(A2,np.linalg.pinv(A2)),'fro')\n",
        "print(result)"
      ],
      "execution_count": 13,
      "outputs": [
        {
          "output_type": "stream",
          "text": [
            "3.9987563652861727e-10\n"
          ],
          "name": "stdout"
        }
      ]
    },
    {
      "cell_type": "code",
      "metadata": {
        "id": "7NGwGUIXTsHo",
        "colab_type": "code",
        "colab": {}
      },
      "source": [
        "A3 = A\n",
        "Z = B\n",
        "\n",
        "loss = lambda a,z : np.linalg.norm(np.dot(X-np.dot(a,z),(X-np.dot(a,z)).T),'fro')\n",
        "gradient_Z = lambda a,z: -2*np.dot(a.T,(X-a.dot(z)))\n",
        "gradient_A = lambda a,z: -2*np.dot(z,(X-a.dot(z)).T).T\n",
        "\n",
        "def linesearch(A_vec,Z,grad,flag):\n",
        "  alpha = 1\n",
        "  c = 0.01\n",
        "  p = 0.5\n",
        "  delta = - grad\n",
        "  l = np.linalg.norm(np.dot(grad.T,delta),'fro')\n",
        "  if flag == 0:\n",
        "    while c*alpha*l < (loss(A_vec+alpha*delta,Z) - loss(A_vec,Z)):\n",
        "      alpha *= p\n",
        "  else:\n",
        "    while c*alpha*l < (loss(A_vec,Z+alpha*delta) - loss(A_vec,Z)):\n",
        "      alpha *= p\n",
        "  return alpha\n",
        "\n",
        "\n",
        "while True:\n",
        "  grad = gradient_Z(A3,Z)\n",
        "  alpha = linesearch(A3,Z,grad,1)\n",
        "  Z -= alpha*grad\n",
        "  grad = gradient_A(A3,Z)\n",
        "  alpha = linesearch(A3,Z,grad,0)\n",
        "  A3 -= alpha*grad\n",
        "  if loss(A3,Z) < 0.14:\n",
        "    break\n",
        "# print(A3)"
      ],
      "execution_count": 0,
      "outputs": []
    },
    {
      "cell_type": "code",
      "metadata": {
        "id": "8lLWkR-qr5O6",
        "colab_type": "code",
        "colab": {
          "base_uri": "https://localhost:8080/",
          "height": 34
        },
        "outputId": "33679b95-d3bc-40a7-d75a-59b6c56f66a1"
      },
      "source": [
        "result = np.linalg.norm(np.dot(A1,A1.T)-np.dot(A3,np.linalg.pinv(A3)),'fro')\n",
        "print(result)"
      ],
      "execution_count": 15,
      "outputs": [
        {
          "output_type": "stream",
          "text": [
            "5.8776830119898615e-08\n"
          ],
          "name": "stdout"
        }
      ]
    }
  ]
}