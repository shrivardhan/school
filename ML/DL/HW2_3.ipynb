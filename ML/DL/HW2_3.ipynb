{
  "nbformat": 4,
  "nbformat_minor": 0,
  "metadata": {
    "colab": {
      "name": "HW2_3.ipynb",
      "provenance": [],
      "collapsed_sections": []
    },
    "kernelspec": {
      "name": "python3",
      "display_name": "Python 3"
    }
  },
  "cells": [
    {
      "cell_type": "code",
      "metadata": {
        "id": "9Sypye9PMi2d",
        "colab_type": "code",
        "colab": {}
      },
      "source": [
        "import numpy as np\n",
        "import torch\n",
        "from torch import FloatTensor\n",
        "import torch.nn.functional as f\n",
        "\n",
        "np.random.seed(598020)\n",
        "\n",
        "y = np.random.randn(2,1)\n",
        "x = np.random.randn(2,1)\n",
        "w1 = np.random.randn(3,2)\n",
        "w2 = np.random.randn(3,3)\n",
        "w3 = np.random.randn(2,3)"
      ],
      "execution_count": 0,
      "outputs": []
    },
    {
      "cell_type": "code",
      "metadata": {
        "id": "KH4d0FpXHv--",
        "colab_type": "code",
        "colab": {}
      },
      "source": [
        "relu = lambda x : np.maximum(x,0)"
      ],
      "execution_count": 0,
      "outputs": []
    },
    {
      "cell_type": "code",
      "metadata": {
        "id": "BPH3y0QZHxhN",
        "colab_type": "code",
        "colab": {}
      },
      "source": [
        "def relu_grad(op):\n",
        "  op[op<0] = 0\n",
        "  op[op>0] = 1\n",
        "  return op"
      ],
      "execution_count": 0,
      "outputs": []
    },
    {
      "cell_type": "code",
      "metadata": {
        "id": "kuioxynaHyE2",
        "colab_type": "code",
        "colab": {}
      },
      "source": [
        "v1 = np.dot(w1,x)\n",
        "v2 = relu(v1)\n",
        "v3 = np.dot(w2,v2)\n",
        "v4 = relu(v3)\n",
        "v5 = np.dot(w3,v4)\n",
        "D = (y-v5)\n",
        "loss = 0.5*np.sum(np.dot(D.T, D))\n",
        "\n",
        "d_w3_a = -np.dot(D, v4.T)\n",
        "d_w2_a = -np.dot(np.multiply(np.dot(w3.T, D), relu_grad(v3)), v2.T)\n",
        "d_w1_a = -np.dot(np.multiply(np.dot(w2.T, np.multiply(np.dot(w3.T, D), relu_grad(v3))), relu_grad(v1)), x.T)\n",
        "\n",
        "# D_grad = D\n",
        "v5_d_r = -D\n",
        "v4_d_r = np.dot(w3.T, v5_d_r)\n",
        "w3_d_r = np.dot(v5_d_r, v4.T)\n",
        "v3_d_r = np.multiply(v4_d_r, relu_grad(v3))\n",
        "w2_d_r = np.dot(v3_d_r, v2.T)\n",
        "v2_d_r = np.dot(w2.T, v3_d_r)\n",
        "v1_d_r = np.multiply(v2_d_r, relu_grad(v1))\n",
        "w1_d_r = np.dot(v1_d_r, x.T)"
      ],
      "execution_count": 0,
      "outputs": []
    },
    {
      "cell_type": "code",
      "metadata": {
        "id": "CUb9rbouH5JV",
        "colab_type": "code",
        "colab": {}
      },
      "source": [
        "x = torch.from_numpy(x)\n",
        "y = torch.from_numpy(y)\n",
        "w1 = torch.from_numpy(w1)\n",
        "w1.requires_grad = True\n",
        "w2 = torch.from_numpy(w2)\n",
        "w2.requires_grad = True\n",
        "w3 = torch.from_numpy(w3)\n",
        "w3.requires_grad = True\n",
        "\n",
        "v1 = torch.mm(w1, x)\n",
        "v2 = f.relu(v1)\n",
        "v3 = torch.mm(w2, v2)\n",
        "v4 = f.relu(v3)\n",
        "v5 = torch.mm(w3, v4)\n",
        "D = (y-v5)\n",
        "loss = 0.5*torch.mm(D.T, D)\n",
        "loss.backward()"
      ],
      "execution_count": 0,
      "outputs": []
    },
    {
      "cell_type": "code",
      "metadata": {
        "id": "qBZ5lyG8H-J5",
        "colab_type": "code",
        "outputId": "e4b1cb6d-5cb5-446b-840f-1f6736049b34",
        "colab": {
          "base_uri": "https://localhost:8080/",
          "height": 170
        }
      },
      "source": [
        "print(\"Analytical Gradient values: \\n w1 = \",d_w1_a, \"\\n w2 = \",d_w2_a, \"\\n w3 = \",d_w3_a)"
      ],
      "execution_count": 22,
      "outputs": [
        {
          "output_type": "stream",
          "text": [
            "Analytical Gradient values: \n",
            " w1 =  [[20.21253439  7.85019704]\n",
            " [-0.         -0.        ]\n",
            " [ 7.39915332  2.87370254]] \n",
            " w2 =  [[-3.24126614 -0.         -6.52755207]\n",
            " [15.72038528 -0.         31.65911995]\n",
            " [-3.13005205 -0.         -6.30357918]] \n",
            " w3 =  [[ 3.72117366 15.45896671 15.41956259]\n",
            " [ 2.19570832  9.12168714  9.09843642]]\n"
          ],
          "name": "stdout"
        }
      ]
    },
    {
      "cell_type": "code",
      "metadata": {
        "id": "5uaMjzGIIB9M",
        "colab_type": "code",
        "outputId": "4a4c07a3-4ff8-4e1b-bd08-b13751731cb5",
        "colab": {
          "base_uri": "https://localhost:8080/",
          "height": 170
        }
      },
      "source": [
        "print(\"Reverse-mode autodiff Gradient values :\\n w1 = \",w1_d_r, \"\\n w2 = \",w2_d_r, \"\\n w3 = \",w3_d_r)"
      ],
      "execution_count": 23,
      "outputs": [
        {
          "output_type": "stream",
          "text": [
            "Reverse-mode autodiff Gradient values :\n",
            " w1 =  [[20.21253439  7.85019704]\n",
            " [ 0.          0.        ]\n",
            " [ 7.39915332  2.87370254]] \n",
            " w2 =  [[-3.24126614  0.         -6.52755207]\n",
            " [15.72038528  0.         31.65911995]\n",
            " [-3.13005205  0.         -6.30357918]] \n",
            " w3 =  [[ 3.72117366 15.45896671 15.41956259]\n",
            " [ 2.19570832  9.12168714  9.09843642]]\n"
          ],
          "name": "stdout"
        }
      ]
    },
    {
      "cell_type": "code",
      "metadata": {
        "id": "8OYeE6A1IETa",
        "colab_type": "code",
        "outputId": "fd070212-9da3-456c-9e81-0815024b8a2f",
        "colab": {
          "base_uri": "https://localhost:8080/",
          "height": 187
        }
      },
      "source": [
        "print(\"Torch Gradient Values: \\n w1 = \\n\",w1.grad.numpy(),\"\\n w2 = \",w2.grad.numpy(),\"\\n w3 = \",w3.grad.numpy())"
      ],
      "execution_count": 24,
      "outputs": [
        {
          "output_type": "stream",
          "text": [
            "Torch Gradient Values: \n",
            " w1 = \n",
            " [[20.21253439  7.85019704]\n",
            " [ 0.          0.        ]\n",
            " [ 7.39915332  2.87370254]] \n",
            " w2 =  [[-3.24126614 -0.         -6.52755207]\n",
            " [15.72038528  0.         31.65911995]\n",
            " [-3.13005205 -0.         -6.30357918]] \n",
            " w3 =  [[ 3.72117366 15.45896671 15.41956259]\n",
            " [ 2.19570832  9.12168714  9.09843642]]\n"
          ],
          "name": "stdout"
        }
      ]
    }
  ]
}