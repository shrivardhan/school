{
  "nbformat": 4,
  "nbformat_minor": 0,
  "metadata": {
    "colab": {
      "name": "TDL-HW3.ipynb",
      "provenance": [],
      "collapsed_sections": []
    },
    "kernelspec": {
      "name": "python3",
      "display_name": "Python 3"
    },
    "accelerator": "GPU"
  },
  "cells": [
    {
      "cell_type": "code",
      "metadata": {
        "id": "hm3NBpjbU5yx",
        "colab_type": "code",
        "colab": {}
      },
      "source": [
        "import torch\n",
        "import torch.nn as nn\n",
        "import torch.nn.functional as F\n",
        "import torchvision\n",
        "import torchvision.transforms as transforms\n",
        "import matplotlib.pyplot as plt"
      ],
      "execution_count": 0,
      "outputs": []
    },
    {
      "cell_type": "code",
      "metadata": {
        "id": "X28YA5qdWg67",
        "colab_type": "code",
        "colab": {}
      },
      "source": [
        "BATCH_SIZE = 32\n",
        "transform = transforms.Compose(\n",
        "    [transforms.ToTensor()])\n",
        "trainset = torchvision.datasets.MNIST(root='./data', train=True,\n",
        "                                        download=True, transform=transform)\n",
        "trainloader = torch.utils.data.DataLoader(trainset, batch_size=BATCH_SIZE,\n",
        "                                          shuffle=True, num_workers=2)\n",
        "testset = torchvision.datasets.MNIST(root='./data', train=False,\n",
        "                                       download=True, transform=transform)\n",
        "testloader = torch.utils.data.DataLoader(testset, batch_size=BATCH_SIZE,\n",
        "                                         shuffle=False, num_workers=2)"
      ],
      "execution_count": 0,
      "outputs": []
    },
    {
      "cell_type": "code",
      "metadata": {
        "id": "9mwp9TG8_ped",
        "colab_type": "code",
        "colab": {}
      },
      "source": [
        "\n",
        "class MyModel(nn.Module):\n",
        "    def __init__(self):\n",
        "        super(MyModel, self).__init__()\n",
        "        self.conv1 = nn.Conv2d(in_channels=1, out_channels=32, kernel_size=3)\n",
        "        self.d1 = nn.Linear(26 * 26 * 32, 128)\n",
        "        self.d2 = nn.Linear(128, 10)\n",
        "\n",
        "    def forward(self, x):\n",
        "        x = self.conv1(x)\n",
        "        x = F.relu(x)\n",
        "        x = x.flatten(start_dim = 1)\n",
        "        x = self.d1(x)\n",
        "        x = F.relu(x)\n",
        "        logits = self.d2(x)\n",
        "        out = F.softmax(logits, dim=1)\n",
        "        return out"
      ],
      "execution_count": 0,
      "outputs": []
    },
    {
      "cell_type": "code",
      "metadata": {
        "id": "U_JrX98iBmnn",
        "colab_type": "code",
        "colab": {}
      },
      "source": [
        "## compute accuracy\n",
        "def get_accuracy(logit, target, batch_size):\n",
        "    ''' Obtain accuracy for training round '''\n",
        "    corrects = (torch.max(logit, 1)[1].view(target.size()).data == target.data).sum()\n",
        "    accuracy = 100.0 * corrects/batch_size\n",
        "    return accuracy.item()"
      ],
      "execution_count": 0,
      "outputs": []
    },
    {
      "cell_type": "markdown",
      "metadata": {
        "id": "8vbCtaVv49-3",
        "colab_type": "text"
      },
      "source": [
        "c) Train Using Adagrad optimizer \n",
        "\n",
        "\n",
        "Note: learning rate is set to large value for converges"
      ]
    },
    {
      "cell_type": "code",
      "metadata": {
        "id": "fqygN5WfBr9V",
        "colab_type": "code",
        "outputId": "632c48f6-af9b-4458-cde9-2fc45a2f41cf",
        "colab": {
          "base_uri": "https://localhost:8080/",
          "height": 187
        }
      },
      "source": [
        "def adagrad(param, sqr, lr, batch_size):\n",
        "    eps_stable = 1e-8\n",
        "    g = param.grad / batch_size\n",
        "    sqr[:] += g**2\n",
        "    div = lr * g / torch.sqrt(sqr + eps_stable)\n",
        "    return param-div\n",
        "\n",
        "learning_rate = 0.01\n",
        "num_epochs = 10\n",
        "\n",
        "device = torch.device(\"cuda:0\" if torch.cuda.is_available() else \"cpu\")\n",
        "model = MyModel()\n",
        "\n",
        "sqrs = []\n",
        "vs = []\n",
        "model = model.to(device)\n",
        "for parameter in model.parameters():\n",
        "  sqrs.append(torch.zeros(parameter.shape).to(device))\n",
        "  vs.append(torch.zeros(parameter.shape).to(device))\n",
        "criterion = nn.CrossEntropyLoss()\n",
        "parameters = model.parameters()\n",
        "loss_epoch = []\n",
        "\n",
        "for epoch in range(num_epochs):\n",
        "    train_running_loss = 0.0\n",
        "    train_acc = 0.0\n",
        "\n",
        "    model = model.train()\n",
        "    for i, (images, labels) in enumerate(trainloader):\n",
        "        \n",
        "        images = images.to(device)\n",
        "        labels = labels.to(device)\n",
        "        logits = model(images)\n",
        "        loss = criterion(logits, labels)\n",
        "        model.zero_grad()\n",
        "        loss.backward()\n",
        "\n",
        "        with torch.no_grad():\n",
        "          for parameter,sqr in zip(model.parameters(),sqrs):\n",
        "            new_param = adagrad(parameter,sqr,learning_rate,BATCH_SIZE)\n",
        "            parameter.copy_(new_param)\n",
        "\n",
        "        train_running_loss += loss.detach().item()\n",
        "        train_acc += get_accuracy(logits, labels, BATCH_SIZE)\n",
        "    loss_epoch.append(train_running_loss)    \n",
        "    model.eval()\n",
        "    print('Epoch: %d | Loss: %.4f | Train Accuracy: %.2f' \\\n",
        "          %(epoch, train_running_loss / i, train_acc/i)) "
      ],
      "execution_count": 0,
      "outputs": [
        {
          "output_type": "stream",
          "text": [
            "Epoch: 0 | Loss: 1.6431 | Train Accuracy: 82.22\n",
            "Epoch: 1 | Loss: 1.5327 | Train Accuracy: 93.34\n",
            "Epoch: 2 | Loss: 1.4995 | Train Accuracy: 96.59\n",
            "Epoch: 3 | Loss: 1.4916 | Train Accuracy: 97.39\n",
            "Epoch: 4 | Loss: 1.4866 | Train Accuracy: 97.88\n",
            "Epoch: 5 | Loss: 1.4834 | Train Accuracy: 98.19\n",
            "Epoch: 6 | Loss: 1.4807 | Train Accuracy: 98.45\n",
            "Epoch: 7 | Loss: 1.4788 | Train Accuracy: 98.63\n",
            "Epoch: 8 | Loss: 1.4773 | Train Accuracy: 98.75\n",
            "Epoch: 9 | Loss: 1.4759 | Train Accuracy: 98.89\n"
          ],
          "name": "stdout"
        }
      ]
    },
    {
      "cell_type": "code",
      "metadata": {
        "id": "CuhGDJ7bByYs",
        "colab_type": "code",
        "outputId": "ebd924e8-13e3-41ec-f3f3-283e27b3202f",
        "colab": {
          "base_uri": "https://localhost:8080/",
          "height": 34
        }
      },
      "source": [
        "test_acc = 0.0\n",
        "for i, (images, labels) in enumerate(testloader, 0):\n",
        "    images = images.to(device)\n",
        "    labels = labels.to(device)\n",
        "    outputs = model(images)\n",
        "    test_acc += get_accuracy(outputs, labels, BATCH_SIZE)\n",
        "        \n",
        "print('Test Accuracy for Adagrad optimizer: %.2f'%( test_acc/i))"
      ],
      "execution_count": 0,
      "outputs": [
        {
          "output_type": "stream",
          "text": [
            "Test Accuracy for Adagrad optimizer: 98.04\n"
          ],
          "name": "stdout"
        }
      ]
    },
    {
      "cell_type": "code",
      "metadata": {
        "id": "axt4hlmnhX1s",
        "colab_type": "code",
        "outputId": "bfd4001c-c348-4462-9e19-ab1505f0ecb0",
        "colab": {
          "base_uri": "https://localhost:8080/",
          "height": 298
        }
      },
      "source": [
        "plt.title('Adagrad Loss vs epoch curve')\n",
        "plt.plot(loss_epoch)"
      ],
      "execution_count": 0,
      "outputs": [
        {
          "output_type": "execute_result",
          "data": {
            "text/plain": [
              "[<matplotlib.lines.Line2D at 0x7fe9660d45f8>]"
            ]
          },
          "metadata": {
            "tags": []
          },
          "execution_count": 7
        },
        {
          "output_type": "display_data",
          "data": {
            "image/png": "[encoded data removed]",
            "text/plain": [
              "<Figure size 432x288 with 1 Axes>"
            ]
          },
          "metadata": {
            "tags": [],
            "needs_background": "light"
          }
        }
      ]
    },
    {
      "cell_type": "markdown",
      "metadata": {
        "id": "ferKAxzM9ZDl",
        "colab_type": "text"
      },
      "source": [
        "1 d) Training using RMSprop optimizer"
      ]
    },
    {
      "cell_type": "code",
      "metadata": {
        "id": "spja7iCUCzD9",
        "colab_type": "code",
        "outputId": "fa6b3870-9fea-4152-9294-53f9426708bc",
        "colab": {
          "base_uri": "https://localhost:8080/",
          "height": 187
        }
      },
      "source": [
        "def rmsprop(param, sqr, lr, gamma, batch_size):\n",
        "    eps_stable = 1e-8\n",
        "    g = param.grad / batch_size\n",
        "    sqr[:] = gamma * sqr + (1. - gamma) * g**2\n",
        "    div = lr * g / torch.sqrt(sqr + eps_stable)\n",
        "    return param-div\n",
        "\n",
        "learning_rate = 0.002\n",
        "num_epochs = 10\n",
        "\n",
        "device = torch.device(\"cuda:0\" if torch.cuda.is_available() else \"cpu\")\n",
        "model = MyModel()\n",
        "\n",
        "sqrs = []\n",
        "vs = []\n",
        "model = model.to(device)\n",
        "for parameter in model.parameters():\n",
        "  sqrs.append(torch.zeros(parameter.shape).to(device))\n",
        "  vs.append(torch.zeros(parameter.shape).to(device))\n",
        "criterion = nn.CrossEntropyLoss()\n",
        "parameters = model.parameters()\n",
        "\n",
        "loss_epoch = []\n",
        "for epoch in range(num_epochs):\n",
        "    train_running_loss = 0.0\n",
        "    train_acc = 0.0\n",
        "\n",
        "    model = model.train()\n",
        "    for i, (images, labels) in enumerate(trainloader):\n",
        "        \n",
        "        images = images.to(device)\n",
        "        labels = labels.to(device)\n",
        "        logits = model(images)\n",
        "        loss = criterion(logits, labels)\n",
        "        model.zero_grad()\n",
        "        loss.backward()\n",
        "\n",
        "        with torch.no_grad():\n",
        "          for parameter,sqr in zip(model.parameters(),sqrs):\n",
        "            new_param = rmsprop(parameter,sqr,learning_rate,0.8,BATCH_SIZE)\n",
        "            parameter.copy_(new_param)\n",
        "\n",
        "        train_running_loss += loss.detach().item()\n",
        "        train_acc += get_accuracy(logits, labels, BATCH_SIZE)\n",
        "    \n",
        "    loss_epoch.append(train_running_loss)\n",
        "    model.eval()\n",
        "    print('Epoch: %d | Loss: %.4f | Train Accuracy: %.2f' \\\n",
        "          %(epoch, train_running_loss / i, train_acc/i))"
      ],
      "execution_count": 0,
      "outputs": [
        {
          "output_type": "stream",
          "text": [
            "Epoch: 0 | Loss: 1.5809 | Train Accuracy: 88.45\n",
            "Epoch: 1 | Loss: 1.5198 | Train Accuracy: 94.28\n",
            "Epoch: 2 | Loss: 1.5064 | Train Accuracy: 95.65\n",
            "Epoch: 3 | Loss: 1.4978 | Train Accuracy: 96.50\n",
            "Epoch: 4 | Loss: 1.4904 | Train Accuracy: 97.26\n",
            "Epoch: 5 | Loss: 1.4847 | Train Accuracy: 97.85\n",
            "Epoch: 6 | Loss: 1.4807 | Train Accuracy: 98.23\n",
            "Epoch: 7 | Loss: 1.4777 | Train Accuracy: 98.55\n",
            "Epoch: 8 | Loss: 1.4757 | Train Accuracy: 98.75\n",
            "Epoch: 9 | Loss: 1.4738 | Train Accuracy: 98.92\n"
          ],
          "name": "stdout"
        }
      ]
    },
    {
      "cell_type": "code",
      "metadata": {
        "id": "BPrP2tth9iW_",
        "colab_type": "code",
        "outputId": "61b32282-1d1f-4411-ebb7-f5ee9e4ff807",
        "colab": {
          "base_uri": "https://localhost:8080/",
          "height": 34
        }
      },
      "source": [
        "test_acc = 0.0\n",
        "for i, (images, labels) in enumerate(testloader, 0):\n",
        "    images = images.to(device)\n",
        "    labels = labels.to(device)\n",
        "    outputs = model(images)\n",
        "    test_acc += get_accuracy(outputs, labels, BATCH_SIZE)\n",
        "        \n",
        "print('Test Accuracy for RMSProp optimizer: %.2f'%( test_acc/i))"
      ],
      "execution_count": 0,
      "outputs": [
        {
          "output_type": "stream",
          "text": [
            "Test Accuracy for RMSProp optimizer: 98.14\n"
          ],
          "name": "stdout"
        }
      ]
    },
    {
      "cell_type": "code",
      "metadata": {
        "id": "AvioZXsVgo09",
        "colab_type": "code",
        "outputId": "9ff1069d-57b0-4e5e-d4a7-e8188f096429",
        "colab": {
          "base_uri": "https://localhost:8080/",
          "height": 298
        }
      },
      "source": [
        "plt.title('RMSProp Loss vs epoch curve')\n",
        "plt.plot(loss_epoch)"
      ],
      "execution_count": 0,
      "outputs": [
        {
          "output_type": "execute_result",
          "data": {
            "text/plain": [
              "[<matplotlib.lines.Line2D at 0x7fe91c622240>]"
            ]
          },
          "metadata": {
            "tags": []
          },
          "execution_count": 10
        },
        {
          "output_type": "display_data",
          "data": {
            "image/png": "[encoded data removed]",
            "text/plain": [
              "<Figure size 432x288 with 1 Axes>"
            ]
          },
          "metadata": {
            "tags": [],
            "needs_background": "light"
          }
        }
      ]
    },
    {
      "cell_type": "markdown",
      "metadata": {
        "id": "lwJ7zUfW9jJJ",
        "colab_type": "text"
      },
      "source": [
        "1 e) Using Adam optimizer"
      ]
    },
    {
      "cell_type": "code",
      "metadata": {
        "id": "FlpJfJdt-GdQ",
        "colab_type": "code",
        "outputId": "4354ea62-d73e-4c6d-906d-73c41c0952eb",
        "colab": {
          "base_uri": "https://localhost:8080/",
          "height": 187
        }
      },
      "source": [
        "def adam(param, v, sqr, lr, batch_size, t):\n",
        "    beta1 = 0.9\n",
        "    beta2 = 0.999\n",
        "    eps_stable = 1e-8\n",
        "    g = param.grad / batch_size\n",
        "    v[:] = beta1 * v + (1. - beta1) * g\n",
        "    sqr[:] = beta2 * sqr + (1. - beta2) * g**2\n",
        "    v_bias_corr = v / (1. - beta1 ** t)\n",
        "    sqr_bias_corr = sqr / (1. - beta2 ** t)\n",
        "    div = lr * v_bias_corr / (torch.sqrt(sqr_bias_corr) + eps_stable)\n",
        "    return param-div\n",
        "\n",
        "learning_rate = 0.002\n",
        "num_epochs = 10\n",
        "\n",
        "device = torch.device(\"cuda:0\" if torch.cuda.is_available() else \"cpu\")\n",
        "model = MyModel()\n",
        "\n",
        "sqrs = []\n",
        "vs = []\n",
        "model = model.to(device)\n",
        "for parameter in model.parameters():\n",
        "  sqrs.append(torch.zeros(parameter.shape).to(device))\n",
        "  vs.append(torch.zeros(parameter.shape).to(device))\n",
        "criterion = nn.CrossEntropyLoss()\n",
        "parameters = model.parameters()\n",
        "\n",
        "loss_epoch = []\n",
        "t = 0\n",
        "for epoch in range(num_epochs):\n",
        "    train_running_loss = 0.0\n",
        "    train_acc = 0.0\n",
        "\n",
        "    model = model.train()\n",
        "    for i, (images, labels) in enumerate(trainloader):\n",
        "        \n",
        "        images = images.to(device)\n",
        "        labels = labels.to(device)\n",
        "        logits = model(images)\n",
        "        loss = criterion(logits, labels)\n",
        "        model.zero_grad()\n",
        "        loss.backward()\n",
        "\n",
        "        t += 1\n",
        "        with torch.no_grad():\n",
        "          for parameter,sqr,v in zip(model.parameters(),sqrs,vs):\n",
        "            new_param = adam(parameter,v,sqr,learning_rate,BATCH_SIZE,t)\n",
        "            parameter.copy_(new_param)\n",
        "\n",
        "        train_running_loss += loss.detach().item()\n",
        "        train_acc += get_accuracy(logits, labels, BATCH_SIZE)\n",
        "    \n",
        "    loss_epoch.append(train_running_loss)\n",
        "    model.eval()\n",
        "    print('Epoch: %d | Loss: %.4f | Train Accuracy: %.2f' \\\n",
        "          %(epoch, train_running_loss / i, train_acc/i))"
      ],
      "execution_count": 0,
      "outputs": [
        {
          "output_type": "stream",
          "text": [
            "Epoch: 0 | Loss: 2.1731 | Train Accuracy: 28.86\n",
            "Epoch: 1 | Loss: 1.5973 | Train Accuracy: 86.52\n",
            "Epoch: 2 | Loss: 1.4914 | Train Accuracy: 97.16\n",
            "Epoch: 3 | Loss: 1.4844 | Train Accuracy: 97.83\n",
            "Epoch: 4 | Loss: 1.4806 | Train Accuracy: 98.21\n",
            "Epoch: 5 | Loss: 1.4784 | Train Accuracy: 98.41\n",
            "Epoch: 6 | Loss: 1.4769 | Train Accuracy: 98.56\n",
            "Epoch: 7 | Loss: 1.4761 | Train Accuracy: 98.63\n",
            "Epoch: 8 | Loss: 1.4747 | Train Accuracy: 98.79\n",
            "Epoch: 9 | Loss: 1.4741 | Train Accuracy: 98.83\n"
          ],
          "name": "stdout"
        }
      ]
    },
    {
      "cell_type": "code",
      "metadata": {
        "id": "sWxslK9rBZzz",
        "colab_type": "code",
        "outputId": "eac3bc63-49f0-4a96-8632-a3f4a28ed4bc",
        "colab": {
          "base_uri": "https://localhost:8080/",
          "height": 34
        }
      },
      "source": [
        "test_acc = 0.0\n",
        "for i, (images, labels) in enumerate(testloader, 0):\n",
        "    images = images.to(device)\n",
        "    labels = labels.to(device)\n",
        "    outputs = model(images)\n",
        "    test_acc += get_accuracy(outputs, labels, BATCH_SIZE)\n",
        "        \n",
        "print('Test Accuracy for Adam optimizer: %.2f'%( test_acc/i))"
      ],
      "execution_count": 0,
      "outputs": [
        {
          "output_type": "stream",
          "text": [
            "Test Accuracy for Adam optimizer: 98.32\n"
          ],
          "name": "stdout"
        }
      ]
    },
    {
      "cell_type": "code",
      "metadata": {
        "id": "jDdBnXpPNKeq",
        "colab_type": "code",
        "outputId": "461e3582-825d-45b1-cab6-5257088ec69b",
        "colab": {
          "base_uri": "https://localhost:8080/",
          "height": 298
        }
      },
      "source": [
        "plt.title('Adam Loss vs epoch curve')\n",
        "plt.plot(loss_epoch)"
      ],
      "execution_count": 0,
      "outputs": [
        {
          "output_type": "execute_result",
          "data": {
            "text/plain": [
              "[<matplotlib.lines.Line2D at 0x7fe9113ec9e8>]"
            ]
          },
          "metadata": {
            "tags": []
          },
          "execution_count": 13
        },
        {
          "output_type": "display_data",
          "data": {
            "image/png": "[encoded data removed]",
            "text/plain": [
              "<Figure size 432x288 with 1 Axes>"
            ]
          },
          "metadata": {
            "tags": [],
            "needs_background": "light"
          }
        }
      ]
    },
    {
      "cell_type": "markdown",
      "metadata": {
        "id": "s8lsaadjkPDA",
        "colab_type": "text"
      },
      "source": [
        "2b) 8 Layer network with no Batch normalization"
      ]
    },
    {
      "cell_type": "code",
      "metadata": {
        "id": "AnNwFEm7clXo",
        "colab_type": "code",
        "colab": {}
      },
      "source": [
        "class MyModelLarge(nn.Module):\n",
        "    def __init__(self):\n",
        "        super(MyModelLarge, self).__init__()\n",
        "        self.conv1 = nn.Conv2d(in_channels=1, out_channels=32, kernel_size=3)\n",
        "        self.conv2 = nn.Conv2d(in_channels=32, out_channels=32, kernel_size=3)\n",
        "        self.conv3 = nn.Conv2d(in_channels=32, out_channels=32, kernel_size=3)\n",
        "        self.conv4 = nn.Conv2d(in_channels=32, out_channels=32, kernel_size=3)\n",
        "        self.conv5 = nn.Conv2d(in_channels=32, out_channels=32, kernel_size=3)\n",
        "        self.conv6 = nn.Conv2d(in_channels=32, out_channels=32, kernel_size=3)\n",
        "        self.d1 = nn.Linear(32*16*16,128)\n",
        "        self.d2 = nn.Linear(128, 10)\n",
        "\n",
        "    def forward(self, x):\n",
        "        x = self.conv1(x)\n",
        "        x = F.relu(x)\n",
        "        x = self.conv2(x)\n",
        "        x = F.relu(x)\n",
        "        x = self.conv3(x)\n",
        "        x = F.relu(x)\n",
        "        x = self.conv4(x)\n",
        "        x = F.relu(x)\n",
        "        x = self.conv5(x)\n",
        "        x = F.relu(x)\n",
        "        x = self.conv6(x)\n",
        "        x = F.relu(x)\n",
        "        \n",
        "        x = x.flatten(start_dim = 1)\n",
        "\n",
        "        x = self.d1(x)\n",
        "        x = F.relu(x)\n",
        "\n",
        "        logits = self.d2(x)\n",
        "        out = F.softmax(logits, dim=1)\n",
        "        return out"
      ],
      "execution_count": 0,
      "outputs": []
    },
    {
      "cell_type": "code",
      "metadata": {
        "id": "5UU8DfdJk6k0",
        "colab_type": "code",
        "outputId": "d78e396d-1d27-460f-de0e-bc2043119cff",
        "colab": {
          "base_uri": "https://localhost:8080/",
          "height": 204
        }
      },
      "source": [
        "def adam(param, v, sqr, lr, batch_size, t):\n",
        "    beta1 = 0.9\n",
        "    beta2 = 0.999\n",
        "    eps_stable = 1e-8\n",
        "    g = param.grad / batch_size\n",
        "    v[:] = beta1 * v + (1. - beta1) * g\n",
        "    sqr[:] = beta2 * sqr + (1. - beta2) * g**2\n",
        "    v_bias_corr = v / (1. - beta1 ** t)\n",
        "    sqr_bias_corr = sqr / (1. - beta2 ** t)\n",
        "    div = lr * v_bias_corr / (torch.sqrt(sqr_bias_corr) + eps_stable)\n",
        "    return param-div\n",
        "\n",
        "learning_rate = 1e-4\n",
        "num_epochs = 10\n",
        "\n",
        "device = torch.device(\"cuda:0\" if torch.cuda.is_available() else \"cpu\")\n",
        "model = MyModelLarge()\n",
        "\n",
        "sqrs = []\n",
        "vs = []\n",
        "model = model.to(device)\n",
        "for parameter in model.parameters():\n",
        "  sqrs.append(torch.zeros(parameter.shape).to(device))\n",
        "  vs.append(torch.zeros(parameter.shape).to(device))\n",
        "criterion = nn.CrossEntropyLoss()\n",
        "parameters = model.parameters()\n",
        "\n",
        "loss_epoch = []\n",
        "t = 0\n",
        "for epoch in range(num_epochs):\n",
        "    train_running_loss = 0.0\n",
        "    train_acc = 0.0\n",
        "\n",
        "    model = model.train()\n",
        "    ## training step\n",
        "    for i, (images, labels) in enumerate(trainloader):\n",
        "        \n",
        "        images = images.to(device)\n",
        "        labels = labels.to(device)\n",
        "\n",
        "        ## forward + backprop + loss\n",
        "        logits = model(images)\n",
        "        loss = criterion(logits, labels)\n",
        "        model.zero_grad()\n",
        "        loss.backward()\n",
        "\n",
        "        t += 1\n",
        "        with torch.no_grad():\n",
        "          for parameter,sqr,v in zip(model.parameters(),sqrs,vs):\n",
        "            new_param = adam(parameter,v,sqr,learning_rate,BATCH_SIZE,t)\n",
        "            parameter.copy_(new_param)\n",
        "\n",
        "        train_running_loss += loss.detach().item()\n",
        "        train_acc += get_accuracy(logits, labels, BATCH_SIZE)\n",
        "    \n",
        "    loss_epoch.append(train_running_loss)\n",
        "    model.eval()\n",
        "    print('Epoch: %d | Loss: %.4f | Train Accuracy: %.2f' \\\n",
        "          %(epoch, train_running_loss / i, train_acc/i))\n",
        "test_acc = 0.0\n",
        "for i, (images, labels) in enumerate(testloader, 0):\n",
        "    images = images.to(device)\n",
        "    labels = labels.to(device)\n",
        "    outputs = model(images)\n",
        "    test_acc += get_accuracy(outputs, labels, BATCH_SIZE)\n",
        "        \n",
        "print('Test Accuracy for Adam optimizer: %.2f'%( test_acc/i))"
      ],
      "execution_count": 0,
      "outputs": [
        {
          "output_type": "stream",
          "text": [
            "Epoch: 0 | Loss: 1.6905 | Train Accuracy: 77.29\n",
            "Epoch: 1 | Loss: 1.5127 | Train Accuracy: 95.09\n",
            "Epoch: 2 | Loss: 1.4927 | Train Accuracy: 97.02\n",
            "Epoch: 3 | Loss: 1.4860 | Train Accuracy: 97.69\n",
            "Epoch: 4 | Loss: 1.4838 | Train Accuracy: 97.88\n",
            "Epoch: 5 | Loss: 1.4810 | Train Accuracy: 98.17\n",
            "Epoch: 6 | Loss: 1.4788 | Train Accuracy: 98.37\n",
            "Epoch: 7 | Loss: 1.4773 | Train Accuracy: 98.54\n",
            "Epoch: 8 | Loss: 1.4772 | Train Accuracy: 98.53\n",
            "Epoch: 9 | Loss: 1.4754 | Train Accuracy: 98.72\n",
            "Test Accuracy for Adam optimizer: 98.22\n"
          ],
          "name": "stdout"
        }
      ]
    },
    {
      "cell_type": "markdown",
      "metadata": {
        "id": "dy37Cv3W7Y7s",
        "colab_type": "text"
      },
      "source": [
        "Network with batch normalization"
      ]
    },
    {
      "cell_type": "code",
      "metadata": {
        "id": "7wtSokKclPWY",
        "colab_type": "code",
        "colab": {}
      },
      "source": [
        "class MyModelLarge(nn.Module):\n",
        "    def __init__(self):\n",
        "        super(MyModelLarge, self).__init__()\n",
        "\n",
        "        self.conv1 = nn.Conv2d(in_channels=1, out_channels=32, kernel_size=3)\n",
        "        self.conv2 = nn.Conv2d(in_channels=32, out_channels=32, kernel_size=3)\n",
        "        self.conv3 = nn.Conv2d(in_channels=32, out_channels=32, kernel_size=3)\n",
        "        self.conv4 = nn.Conv2d(in_channels=32, out_channels=32, kernel_size=3)\n",
        "        self.conv5 = nn.Conv2d(in_channels=32, out_channels=32, kernel_size=3)\n",
        "        self.conv6 = nn.Conv2d(in_channels=32, out_channels=32, kernel_size=3)\n",
        "        self.bn1 = nn.BatchNorm2d(32)\n",
        "        self.bn2 = nn.BatchNorm2d(32)\n",
        "        self.d1 = nn.Linear(32*16*16,128)\n",
        "        self.d2 = nn.Linear(128, 10)\n",
        "\n",
        "    def forward(self, x):\n",
        "        # 32x1x28x28 => 32x32x26x26\n",
        "        x = self.bn1(self.conv1(x))\n",
        "        x = F.relu(x)\n",
        "        x = self.conv2(x)\n",
        "        x = F.relu(x)\n",
        "        x = self.bn2(self.conv3(x))\n",
        "        x = F.relu(x)\n",
        "        x = self.conv4(x)\n",
        "        x = F.relu(x)\n",
        "        x = self.conv5(x)\n",
        "        x = F.relu(x)\n",
        "        x = self.conv6(x)\n",
        "        x = F.relu(x)\n",
        "        \n",
        "        x = x.flatten(start_dim = 1)\n",
        "\n",
        "        x = self.d1(x)\n",
        "        x = F.relu(x)\n",
        "\n",
        "        logits = self.d2(x)\n",
        "        out = F.softmax(logits, dim=1)\n",
        "        # flatten => 32 x (32*26*26)\n",
        "        return out"
      ],
      "execution_count": 0,
      "outputs": []
    },
    {
      "cell_type": "code",
      "metadata": {
        "id": "eW8K5JqsvE-j",
        "colab_type": "code",
        "outputId": "e1a6c2a5-27f4-46fd-c74c-723a36f72146",
        "colab": {
          "base_uri": "https://localhost:8080/",
          "height": 204
        }
      },
      "source": [
        "def adam(param, v, sqr, lr, batch_size, t):\n",
        "    beta1 = 0.9\n",
        "    beta2 = 0.999\n",
        "    eps_stable = 1e-8\n",
        "    g = param.grad / batch_size\n",
        "    v[:] = beta1 * v + (1. - beta1) * g\n",
        "    sqr[:] = beta2 * sqr + (1. - beta2) * g**2\n",
        "    v_bias_corr = v / (1. - beta1 ** t)\n",
        "    sqr_bias_corr = sqr / (1. - beta2 ** t)\n",
        "    div = lr * v_bias_corr / (torch.sqrt(sqr_bias_corr) + eps_stable)\n",
        "    return param-div\n",
        "\n",
        "learning_rate = 1e-4\n",
        "num_epochs = 10\n",
        "\n",
        "device = torch.device(\"cuda:0\" if torch.cuda.is_available() else \"cpu\")\n",
        "model = MyModelLarge()\n",
        "\n",
        "sqrs = []\n",
        "vs = []\n",
        "model = model.to(device)\n",
        "for parameter in model.parameters():\n",
        "  sqrs.append(torch.zeros(parameter.shape).to(device))\n",
        "  vs.append(torch.zeros(parameter.shape).to(device))\n",
        "criterion = nn.CrossEntropyLoss()\n",
        "parameters = model.parameters()\n",
        "\n",
        "loss_epoch = []\n",
        "t = 0\n",
        "for epoch in range(num_epochs):\n",
        "    train_running_loss = 0.0\n",
        "    train_acc = 0.0\n",
        "\n",
        "    model = model.train()\n",
        "    ## training step\n",
        "    for i, (images, labels) in enumerate(trainloader):\n",
        "        \n",
        "        images = images.to(device)\n",
        "        labels = labels.to(device)\n",
        "\n",
        "        ## forward + backprop + loss\n",
        "        logits = model(images)\n",
        "        loss = criterion(logits, labels)\n",
        "        model.zero_grad()\n",
        "        loss.backward()\n",
        "\n",
        "        t += 1\n",
        "        with torch.no_grad():\n",
        "          for parameter,sqr,v in zip(model.parameters(),sqrs,vs):\n",
        "            new_param = adam(parameter,v,sqr,learning_rate,BATCH_SIZE,t)\n",
        "            parameter.copy_(new_param)\n",
        "\n",
        "        train_running_loss += loss.detach().item()\n",
        "        train_acc += get_accuracy(logits, labels, BATCH_SIZE)\n",
        "    \n",
        "    loss_epoch.append(train_running_loss)\n",
        "    model.eval()\n",
        "    print('Epoch: %d | Loss: %.4f | Train Accuracy: %.2f' \\\n",
        "          %(epoch, train_running_loss / i, train_acc/i))\n",
        "\n",
        "test_acc = 0.0\n",
        "for i, (images, labels) in enumerate(testloader, 0):\n",
        "    images = images.to(device)\n",
        "    labels = labels.to(device)\n",
        "    outputs = model(images)\n",
        "    test_acc += get_accuracy(outputs, labels, BATCH_SIZE)\n",
        "        \n",
        "print('Test Accuracy for Adam optimizer: %.2f'%( test_acc/i))\n",
        "\n"
      ],
      "execution_count": 0,
      "outputs": [
        {
          "output_type": "stream",
          "text": [
            "Epoch: 0 | Loss: 1.7184 | Train Accuracy: 74.46\n",
            "Epoch: 1 | Loss: 1.5263 | Train Accuracy: 93.67\n",
            "Epoch: 2 | Loss: 1.4817 | Train Accuracy: 98.11\n",
            "Epoch: 3 | Loss: 1.4791 | Train Accuracy: 98.38\n",
            "Epoch: 4 | Loss: 1.4760 | Train Accuracy: 98.69\n",
            "Epoch: 5 | Loss: 1.4752 | Train Accuracy: 98.75\n",
            "Epoch: 6 | Loss: 1.4746 | Train Accuracy: 98.79\n",
            "Epoch: 7 | Loss: 1.4733 | Train Accuracy: 98.94\n",
            "Epoch: 8 | Loss: 1.4728 | Train Accuracy: 98.97\n",
            "Epoch: 9 | Loss: 1.4721 | Train Accuracy: 99.06\n",
            "Test Accuracy for Adam optimizer: 98.99\n"
          ],
          "name": "stdout"
        }
      ]
    },
    {
      "cell_type": "markdown",
      "metadata": {
        "id": "ndI-8kbrwRvv",
        "colab_type": "text"
      },
      "source": [
        "2c. Network with dropout"
      ]
    },
    {
      "cell_type": "code",
      "metadata": {
        "id": "qjzaNYGRw4vh",
        "colab_type": "code",
        "colab": {}
      },
      "source": [
        "class MyModelLarge(nn.Module):\n",
        "    def __init__(self):\n",
        "        super(MyModelLarge, self).__init__()\n",
        "\n",
        "        self.conv1 = nn.Conv2d(in_channels=1, out_channels=32, kernel_size=3)\n",
        "        self.conv2 = nn.Conv2d(in_channels=32, out_channels=32, kernel_size=3)\n",
        "        self.conv3 = nn.Conv2d(in_channels=32, out_channels=32, kernel_size=3)\n",
        "        self.conv4 = nn.Conv2d(in_channels=32, out_channels=32, kernel_size=3)\n",
        "        self.conv5 = nn.Conv2d(in_channels=32, out_channels=32, kernel_size=3)\n",
        "        self.conv6 = nn.Conv2d(in_channels=32, out_channels=32, kernel_size=3)\n",
        "        self.d1 = nn.Linear(32*16*16,128)\n",
        "        self.d2 = nn.Linear(128, 10)\n",
        "\n",
        "    def forward(self, x):\n",
        "        # 32x1x28x28 => 32x32x26x26\n",
        "        x = self.conv1(x)\n",
        "        x = F.relu(x)\n",
        "        x = self.conv2(x)\n",
        "        x = F.relu(x)\n",
        "        x = self.conv3(x)\n",
        "        x = F.relu(x)\n",
        "        x = F.dropout(x,p=0.5)\n",
        "        x = self.conv4(x)\n",
        "        x = F.relu(x)\n",
        "        x = self.conv5(x)\n",
        "        x = F.relu(x)\n",
        "        x = self.conv6(x)\n",
        "        x = F.relu(x)\n",
        "        \n",
        "        x = x.flatten(start_dim = 1)\n",
        "        x = self.d1(x)\n",
        "        x = F.relu(x)\n",
        "\n",
        "        logits = self.d2(x)\n",
        "        out = F.softmax(logits, dim=1)\n",
        "        # flatten => 32 x (32*26*26)\n",
        "        return out"
      ],
      "execution_count": 0,
      "outputs": []
    },
    {
      "cell_type": "code",
      "metadata": {
        "id": "K-8RuQK3wLaJ",
        "colab_type": "code",
        "outputId": "d2d6d6d6-2340-4716-e38f-24d377de4dc0",
        "colab": {
          "base_uri": "https://localhost:8080/",
          "height": 374
        }
      },
      "source": [
        "def adam(param, v, sqr, lr, batch_size, t):\n",
        "    beta1 = 0.9\n",
        "    beta2 = 0.999\n",
        "    eps_stable = 1e-8\n",
        "    g = param.grad / batch_size\n",
        "    v[:] = beta1 * v + (1. - beta1) * g\n",
        "    sqr[:] = beta2 * sqr + (1. - beta2) * g**2\n",
        "    v_bias_corr = v / (1. - beta1 ** t)\n",
        "    sqr_bias_corr = sqr / (1. - beta2 ** t)\n",
        "    div = lr * v_bias_corr / (torch.sqrt(sqr_bias_corr) + eps_stable)\n",
        "    return param-div\n",
        "\n",
        "learning_rate = 1e-4\n",
        "num_epochs = 20\n",
        "\n",
        "device = torch.device(\"cuda:0\" if torch.cuda.is_available() else \"cpu\")\n",
        "model = MyModelLarge()\n",
        "\n",
        "sqrs = []\n",
        "vs = []\n",
        "model = model.to(device)\n",
        "for parameter in model.parameters():\n",
        "  sqrs.append(torch.zeros(parameter.shape).to(device))\n",
        "  vs.append(torch.zeros(parameter.shape).to(device))\n",
        "criterion = nn.CrossEntropyLoss()\n",
        "parameters = model.parameters()\n",
        "\n",
        "loss_epoch = []\n",
        "t = 0\n",
        "for epoch in range(num_epochs):\n",
        "    train_running_loss = 0.0\n",
        "    train_acc = 0.0\n",
        "\n",
        "    model = model.train()\n",
        "    ## training step\n",
        "    for i, (images, labels) in enumerate(trainloader):\n",
        "        \n",
        "        images = images.to(device)\n",
        "        labels = labels.to(device)\n",
        "\n",
        "        ## forward + backprop + loss\n",
        "        logits = model(images)\n",
        "        loss = criterion(logits, labels)\n",
        "        model.zero_grad()\n",
        "        loss.backward()\n",
        "\n",
        "        t += 1\n",
        "        with torch.no_grad():\n",
        "          for parameter,sqr,v in zip(model.parameters(),sqrs,vs):\n",
        "            new_param = adam(parameter,v,sqr,learning_rate,BATCH_SIZE,t)\n",
        "            parameter.copy_(new_param)\n",
        "\n",
        "        train_running_loss += loss.detach().item()\n",
        "        train_acc += get_accuracy(logits, labels, BATCH_SIZE)\n",
        "    \n",
        "    loss_epoch.append(train_running_loss)\n",
        "    model.eval()\n",
        "    print('Epoch: %d | Loss: %.4f | Train Accuracy: %.2f' \\\n",
        "          %(epoch, train_running_loss / i, train_acc/i))\n",
        "\n",
        "test_acc = 0.0\n",
        "for i, (images, labels) in enumerate(testloader, 0):\n",
        "    images = images.to(device)\n",
        "    labels = labels.to(device)\n",
        "    outputs = model(images)\n",
        "    test_acc += get_accuracy(outputs, labels, BATCH_SIZE)\n",
        "        \n",
        "print('Test Accuracy for Adam optimizer: %.2f'%( test_acc/i))\n",
        "\n"
      ],
      "execution_count": 0,
      "outputs": [
        {
          "output_type": "stream",
          "text": [
            "Epoch: 0 | Loss: 1.7510 | Train Accuracy: 71.10\n",
            "Epoch: 1 | Loss: 1.5047 | Train Accuracy: 95.85\n",
            "Epoch: 2 | Loss: 1.4922 | Train Accuracy: 97.05\n",
            "Epoch: 3 | Loss: 1.4871 | Train Accuracy: 97.56\n",
            "Epoch: 4 | Loss: 1.4844 | Train Accuracy: 97.80\n",
            "Epoch: 5 | Loss: 1.4807 | Train Accuracy: 98.18\n",
            "Epoch: 6 | Loss: 1.4789 | Train Accuracy: 98.37\n",
            "Epoch: 7 | Loss: 1.4776 | Train Accuracy: 98.49\n",
            "Epoch: 8 | Loss: 1.4765 | Train Accuracy: 98.60\n",
            "Epoch: 9 | Loss: 1.4753 | Train Accuracy: 98.71\n",
            "Epoch: 10 | Loss: 1.4743 | Train Accuracy: 98.82\n",
            "Epoch: 11 | Loss: 1.4743 | Train Accuracy: 98.81\n",
            "Epoch: 12 | Loss: 1.4733 | Train Accuracy: 98.93\n",
            "Epoch: 13 | Loss: 1.4727 | Train Accuracy: 98.98\n",
            "Epoch: 14 | Loss: 1.4721 | Train Accuracy: 99.03\n",
            "Epoch: 15 | Loss: 1.4723 | Train Accuracy: 99.02\n",
            "Epoch: 16 | Loss: 1.4713 | Train Accuracy: 99.12\n",
            "Epoch: 17 | Loss: 1.4708 | Train Accuracy: 99.17\n",
            "Epoch: 18 | Loss: 1.4702 | Train Accuracy: 99.21\n",
            "Epoch: 19 | Loss: 1.4706 | Train Accuracy: 99.19\n",
            "Test Accuracy for Adam optimizer: 98.83\n"
          ],
          "name": "stdout"
        }
      ]
    },
    {
      "cell_type": "code",
      "metadata": {
        "id": "YCSpZFGmxI1R",
        "colab_type": "code",
        "colab": {}
      },
      "source": [
        ""
      ],
      "execution_count": 0,
      "outputs": []
    }
  ]
}