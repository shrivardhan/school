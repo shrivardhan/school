{
 "cells": [
  {
   "cell_type": "code",
   "execution_count": 108,
   "metadata": {},
   "outputs": [],
   "source": [
    "import matplotlib.pyplot as plt\n",
    "import pandas as pd\n",
    "import numpy as np\n",
    "import torch\n",
    "import torchvision\n",
    "import torchvision.transforms as transforms\n",
    "import torch.optim as optim\n",
    "from torch.autograd import Variable\n",
    "import torch.nn as nn\n",
    "import torch.nn.functional as F\n",
    "import torchvision.utils as vutils"
   ]
  },
  {
   "cell_type": "code",
   "execution_count": 109,
   "metadata": {},
   "outputs": [],
   "source": [
    "class dAE(nn.Module):\n",
    "    def __init__(self):\n",
    "        super(dAE,self).__init__()\n",
    "        \n",
    "        self.encoder=nn.Sequential(\n",
    "                      nn.Linear(784,400),\n",
    "                      nn.ReLU(True),\n",
    "                      nn.Linear(400,20),\n",
    "                      nn.ReLU(True)\n",
    "                      )\n",
    "\n",
    "        self.decoder=nn.Sequential(\n",
    "                      nn.Linear(20,400),\n",
    "                      nn.ReLU(True),\n",
    "                      nn.Linear(400,784),\n",
    "                      nn.Sigmoid()\n",
    "                      )\n",
    "\n",
    "    def forward(self,x):\n",
    "        x=self.encoder(x)\n",
    "        x=self.decoder(x)\n",
    "        return x"
   ]
  },
  {
   "cell_type": "code",
   "execution_count": 110,
   "metadata": {},
   "outputs": [],
   "source": [
    "class AddRandomNoise(object):\n",
    "    def __init__(self):\n",
    "        self.row = 28\n",
    "        self.col = 28\n",
    "        \n",
    "    def __call__(self, tensor):\n",
    "        noise = torch.randn(tensor.size())\n",
    "        tensor += tensor*noise\n",
    "        return tensor\n",
    "    \n",
    "    def __repr__(self):\n",
    "        return self.__class__.__name__"
   ]
  },
  {
   "cell_type": "code",
   "execution_count": 111,
   "metadata": {},
   "outputs": [],
   "source": [
    "transform = transforms.Compose([transforms.ToTensor(), AddRandomNoise()])\n",
    "trainset = torchvision.datasets.MNIST(root = './', train = True, download = True,transform = transform)\n",
    "testset = torchvision.datasets.MNIST(root = './', train = False, download = True,transform = transform)"
   ]
  },
  {
   "cell_type": "code",
   "execution_count": 112,
   "metadata": {},
   "outputs": [],
   "source": [
    "train_loader = torch.utils.data.DataLoader(trainset, batch_size = 64, shuffle = True)\n",
    "test_loader = torch.utils.data.DataLoader(testset, batch_size = 5, shuffle = False)"
   ]
  },
  {
   "cell_type": "code",
   "execution_count": 113,
   "metadata": {},
   "outputs": [],
   "source": [
    "# init network\n",
    "ae = dAE()"
   ]
  },
  {
   "cell_type": "code",
   "execution_count": 114,
   "metadata": {},
   "outputs": [],
   "source": [
    "#init optimizer\n",
    "optimizer = optim.SGD(ae.parameters(), lr = 0.01, momentum = 0.9)\n",
    "# init loss function\n",
    "criterion = nn.BCELoss()"
   ]
  },
  {
   "cell_type": "code",
   "execution_count": 115,
   "metadata": {},
   "outputs": [
    {
     "name": "stdout",
     "output_type": "stream",
     "text": [
      "loss at epoch: 0 = 0.006754949223250151\n",
      "loss at epoch: 1 = 0.00420671422034502\n",
      "loss at epoch: 2 = 0.004145263694226742\n",
      "loss at epoch: 3 = 0.004067182075232267\n",
      "loss at epoch: 4 = 0.0038846307434141636\n",
      "loss at epoch: 5 = 0.003649760503321886\n",
      "loss at epoch: 6 = 0.0034502011258155107\n",
      "loss at epoch: 7 = 0.0032137830276042223\n",
      "loss at epoch: 8 = 0.0030560032464563847\n",
      "loss at epoch: 9 = 0.0029058107174932957\n",
      "loss at epoch: 10 = 0.00277711171656847\n",
      "loss at epoch: 11 = 0.0026763633359223604\n",
      "loss at epoch: 12 = 0.0025881004985421896\n",
      "loss at epoch: 13 = 0.0025048432871699333\n",
      "loss at epoch: 14 = 0.002413382288068533\n",
      "loss at epoch: 15 = 0.0023265944328159094\n",
      "loss at epoch: 16 = 0.002225714735686779\n",
      "loss at epoch: 17 = 0.0021325708366930485\n",
      "loss at epoch: 18 = 0.002036187332123518\n",
      "loss at epoch: 19 = 0.0019538123160600662\n",
      "loss at epoch: 20 = 0.001871749060228467\n",
      "loss at epoch: 21 = 0.0018072569509968162\n",
      "loss at epoch: 22 = 0.0017289657844230533\n",
      "loss at epoch: 23 = 0.0016579471994191408\n",
      "loss at epoch: 24 = 0.0015828656032681465\n",
      "loss at epoch: 25 = 0.0015174323925748467\n",
      "loss at epoch: 26 = 0.0014409389114007354\n",
      "loss at epoch: 27 = 0.0013758057029917836\n",
      "loss at epoch: 28 = 0.0013032689457759261\n",
      "loss at epoch: 29 = 0.0012148967944085598\n",
      "loss at epoch: 30 = 0.0011418582871556282\n",
      "loss at epoch: 31 = 0.0010701364371925592\n",
      "loss at epoch: 32 = 0.0010130099253728986\n",
      "loss at epoch: 33 = 0.000957675336394459\n",
      "loss at epoch: 34 = 0.0008924180292524397\n",
      "loss at epoch: 35 = 0.000838718842715025\n",
      "loss at epoch: 36 = 0.0007949498249217868\n",
      "loss at epoch: 37 = 0.0007450057892128825\n",
      "loss at epoch: 38 = 0.0007149401935748756\n",
      "loss at epoch: 39 = 0.0006877018022350967\n",
      "loss at epoch: 40 = 0.0006515763816423714\n",
      "loss at epoch: 41 = 0.0006348897586576641\n",
      "loss at epoch: 42 = 0.0006063193432055414\n",
      "loss at epoch: 43 = 0.0005910011241212487\n",
      "loss at epoch: 44 = 0.0005586278857663274\n",
      "loss at epoch: 45 = 0.0005401584203355014\n",
      "loss at epoch: 46 = 0.0005216907011345029\n",
      "loss at epoch: 47 = 0.000505527132190764\n",
      "loss at epoch: 48 = 0.00047932483721524477\n",
      "loss at epoch: 49 = 0.0004802010953426361\n"
     ]
    }
   ],
   "source": [
    "epochs = 30\n",
    "losslist = []\n",
    "predictions = []\n",
    "# traing_accuracy_list = []\n",
    "for epoch in range(0,epochs):\n",
    "    total_loss = 0\n",
    "#     training_accuracy = 0\n",
    "    for data,label in train_loader:\n",
    "        data =  Variable(data)\n",
    "        data = data.view(-1, 784)\n",
    "        # gradient is set to 0\n",
    "        optimizer.zero_grad()\n",
    "        # passing through the network\n",
    "        net_out = ae(data)\n",
    "        # calculaing BCE loss\n",
    "        loss = criterion(net_out, data)\n",
    "        # propogating loss at current step\n",
    "        loss.backward()\n",
    "        # updating parameters (in steps) after gradient descent\n",
    "        optimizer.step()\n",
    "        # calculate total loss\n",
    "        total_loss += loss\n",
    "        # predictions\n",
    "        predictions.append(net_out)\n",
    "#         accuracy\n",
    "#         training_accuracy += pred.eq(target.data).sum()\n",
    "    losslist.append(total_loss.item()/len(train_loader.dataset))\n",
    "#     traing_accuracy_list.append(training_accuracy.item()/len(train_loader.dataset))\n",
    "    print('loss at epoch: {} = {}'.format(epoch,total_loss/len(train_loader.dataset)))\n",
    "        "
   ]
  },
  {
   "cell_type": "code",
   "execution_count": 116,
   "metadata": {},
   "outputs": [
    {
     "data": {
      "text/plain": [
       "[<matplotlib.lines.Line2D at 0x123e84710>]"
      ]
     },
     "execution_count": 116,
     "metadata": {},
     "output_type": "execute_result"
    },
    {
     "data": {
      "image/png": "[encoded data removed]",
      "text/plain": [
       "<Figure size 432x288 with 1 Axes>"
      ]
     },
     "metadata": {
      "needs_background": "light"
     },
     "output_type": "display_data"
    }
   ],
   "source": [
    "plt.plot(losslist)\n",
    "# plt.savefig(fname='dae.png',format='png')"
   ]
  },
  {
   "cell_type": "code",
   "execution_count": 117,
   "metadata": {},
   "outputs": [],
   "source": [
    "torch.save(ae, \"hw5_dAE.pth\")\n",
    "model = dAE()\n",
    "model = torch.load( \"hw5_dAE.pth\")"
   ]
  },
  {
   "cell_type": "code",
   "execution_count": 118,
   "metadata": {},
   "outputs": [
    {
     "data": {
      "image/png": "[encoded data removed]",
      "text/plain": [
       "<Figure size 288x288 with 1 Axes>"
      ]
     },
     "metadata": {
      "needs_background": "light"
     },
     "output_type": "display_data"
    }
   ],
   "source": [
    "for image_test,label in test_loader:\n",
    "    image_test = Variable(image_test)\n",
    "    image_test = image_test.view(-1, 784)\n",
    "    output = model(image_test)\n",
    "    image_test = image_test.view(image_test.size(0), 1, 28, 28)\n",
    "    output = output.view(output.size(0), 1, 28, 28)\n",
    "    all_img = torch.cat([image_test, output], dim=0)\n",
    "    horizontal_grid = vutils.make_grid(all_img, nrow=5, normalize=True, scale_each=True)\n",
    "    fig = plt.figure(figsize=(4, 4))\n",
    "    plt.imshow(np.moveaxis(horizontal_grid.detach().numpy(), 0, -1))\n",
    "    break"
   ]
  },
  {
   "cell_type": "code",
   "execution_count": null,
   "metadata": {},
   "outputs": [],
   "source": [
    "\n",
    "    "
   ]
  },
  {
   "cell_type": "code",
   "execution_count": null,
   "metadata": {},
   "outputs": [],
   "source": []
  },
  {
   "cell_type": "code",
   "execution_count": null,
   "metadata": {},
   "outputs": [],
   "source": []
  }
 ],
 "metadata": {
  "kernelspec": {
   "display_name": "myenv",
   "language": "python",
   "name": "myenv"
  },
  "language_info": {
   "codemirror_mode": {
    "name": "ipython",
    "version": 3
   },
   "file_extension": ".py",
   "mimetype": "text/x-python",
   "name": "python",
   "nbconvert_exporter": "python",
   "pygments_lexer": "ipython3",
   "version": "3.7.2"
  }
 },
 "nbformat": 4,
 "nbformat_minor": 2
}
