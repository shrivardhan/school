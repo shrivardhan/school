{
 "cells": [
  {
   "cell_type": "code",
   "execution_count": 158,
   "metadata": {},
   "outputs": [],
   "source": [
    "import matplotlib.pyplot as plt\n",
    "import pandas as pd\n",
    "import numpy as np\n",
    "import torch\n",
    "import torchvision\n",
    "import torchvision.transforms as transforms\n",
    "import torch.optim as optim\n",
    "from torch.autograd import Variable\n",
    "import torch.nn as nn\n",
    "import torch.nn.functional as F\n",
    "import torchvision.utils as vutils"
   ]
  },
  {
   "cell_type": "code",
   "execution_count": 159,
   "metadata": {},
   "outputs": [],
   "source": [
    "class vAE(nn.Module):\n",
    "    def __init__(self):\n",
    "        super(vAE,self).__init__()\n",
    "\n",
    "        self.fc1 = nn.Linear(784, 400)\n",
    "        self.fc21 = nn.Linear(400, 20)\n",
    "        self.fc22 = nn.Linear(400, 20)\n",
    "        self.fc3 = nn.Linear(20, 400)\n",
    "        self.fc4 = nn.Linear(400, 784)\n",
    "\n",
    "    def encode(self, x):\n",
    "        h1 = F.relu(self.fc1(x))\n",
    "        return self.fc21(h1), self.fc22(h1)\n",
    "\n",
    "    def reparametrize(self, mu, logvar):\n",
    "#         std = logvar.mul(0.5).exp_()\n",
    "        std = torch.exp(logvar)\n",
    "        eps = Variable(torch.FloatTensor(std.size()).normal_())\n",
    "        return eps.mul(std).add_(mu)\n",
    "\n",
    "    def decode(self, z):\n",
    "        h3 = F.relu(self.fc3(z))\n",
    "        return F.sigmoid(self.fc4(h3))\n",
    "\n",
    "    def forward(self, x):\n",
    "        mu, logvar = self.encode(x)\n",
    "        z = self.reparametrize(mu, logvar)\n",
    "        return self.decode(z), mu, logvar"
   ]
  },
  {
   "cell_type": "code",
   "execution_count": 160,
   "metadata": {},
   "outputs": [],
   "source": [
    "transform = transforms.Compose([transforms.ToTensor()])\n",
    "trainset = torchvision.datasets.MNIST(root = './', train = True, download = True,transform = transform)\n",
    "testset = torchvision.datasets.MNIST(root = './', train = False, download = True,transform = transform)\n",
    "train_loader = torch.utils.data.DataLoader(trainset, batch_size = 64, shuffle = True)\n",
    "test_loader = torch.utils.data.DataLoader(testset, batch_size = 4, shuffle = False)"
   ]
  },
  {
   "cell_type": "code",
   "execution_count": 161,
   "metadata": {},
   "outputs": [],
   "source": [
    "# init the network\n",
    "ae = vAE()"
   ]
  },
  {
   "cell_type": "code",
   "execution_count": 162,
   "metadata": {},
   "outputs": [],
   "source": [
    "#init optimizer\n",
    "optimizer = optim.SGD(ae.parameters(), lr = 0.001)\n",
    "# init loss function\n",
    "criterion = nn.BCELoss()"
   ]
  },
  {
   "cell_type": "code",
   "execution_count": 163,
   "metadata": {},
   "outputs": [],
   "source": [
    "def loss_function(new_x, x, mu, logvar):\n",
    "    BCE = criterion(new_x, x)\n",
    "    KLD_element = mu.pow(2).add_(logvar.exp()).mul_(-1).add_(1).add_(logvar)\n",
    "    KLD = torch.sum(KLD_element).mul_(-0.5)\n",
    "    # KL divergence\n",
    "    return BCE + KLD"
   ]
  },
  {
   "cell_type": "code",
   "execution_count": 164,
   "metadata": {},
   "outputs": [
    {
     "name": "stdout",
     "output_type": "stream",
     "text": [
      "Epoch: 0 Average loss: 0.0167\n",
      "Epoch: 1 Average loss: 0.0116\n",
      "Epoch: 2 Average loss: 0.0110\n",
      "Epoch: 3 Average loss: 0.0109\n",
      "Epoch: 4 Average loss: 0.0107\n",
      "Epoch: 5 Average loss: 0.0106\n",
      "Epoch: 6 Average loss: 0.0106\n",
      "Epoch: 7 Average loss: 0.0105\n",
      "Epoch: 8 Average loss: 0.0104\n",
      "Epoch: 9 Average loss: 0.0103\n",
      "Epoch: 10 Average loss: 0.0103\n",
      "Epoch: 11 Average loss: 0.0102\n",
      "Epoch: 12 Average loss: 0.0101\n",
      "Epoch: 13 Average loss: 0.0101\n",
      "Epoch: 14 Average loss: 0.0100\n",
      "Epoch: 15 Average loss: 0.0099\n",
      "Epoch: 16 Average loss: 0.0099\n",
      "Epoch: 17 Average loss: 0.0098\n",
      "Epoch: 18 Average loss: 0.0098\n",
      "Epoch: 19 Average loss: 0.0097\n",
      "Epoch: 20 Average loss: 0.0096\n",
      "Epoch: 21 Average loss: 0.0096\n",
      "Epoch: 22 Average loss: 0.0095\n",
      "Epoch: 23 Average loss: 0.0095\n",
      "Epoch: 24 Average loss: 0.0094\n",
      "Epoch: 25 Average loss: 0.0093\n",
      "Epoch: 26 Average loss: 0.0093\n",
      "Epoch: 27 Average loss: 0.0092\n",
      "Epoch: 28 Average loss: 0.0092\n",
      "Epoch: 29 Average loss: 0.0091\n",
      "Epoch: 30 Average loss: 0.0091\n",
      "Epoch: 31 Average loss: 0.0090\n",
      "Epoch: 32 Average loss: 0.0090\n",
      "Epoch: 33 Average loss: 0.0089\n",
      "Epoch: 34 Average loss: 0.0089\n",
      "Epoch: 35 Average loss: 0.0088\n",
      "Epoch: 36 Average loss: 0.0088\n",
      "Epoch: 37 Average loss: 0.0087\n",
      "Epoch: 38 Average loss: 0.0087\n",
      "Epoch: 39 Average loss: 0.0086\n",
      "Epoch: 40 Average loss: 0.0086\n",
      "Epoch: 41 Average loss: 0.0085\n",
      "Epoch: 42 Average loss: 0.0085\n",
      "Epoch: 43 Average loss: 0.0084\n",
      "Epoch: 44 Average loss: 0.0084\n",
      "Epoch: 45 Average loss: 0.0083\n",
      "Epoch: 46 Average loss: 0.0083\n",
      "Epoch: 47 Average loss: 0.0082\n",
      "Epoch: 48 Average loss: 0.0082\n",
      "Epoch: 49 Average loss: 0.0082\n",
      "Epoch: 50 Average loss: 0.0081\n",
      "Epoch: 51 Average loss: 0.0081\n",
      "Epoch: 52 Average loss: 0.0080\n",
      "Epoch: 53 Average loss: 0.0080\n",
      "Epoch: 54 Average loss: 0.0079\n",
      "Epoch: 55 Average loss: 0.0079\n",
      "Epoch: 56 Average loss: 0.0079\n",
      "Epoch: 57 Average loss: 0.0078\n",
      "Epoch: 58 Average loss: 0.0078\n",
      "Epoch: 59 Average loss: 0.0077\n",
      "Epoch: 60 Average loss: 0.0077\n",
      "Epoch: 61 Average loss: 0.0076\n",
      "Epoch: 62 Average loss: 0.0076\n",
      "Epoch: 63 Average loss: 0.0076\n",
      "Epoch: 64 Average loss: 0.0075\n",
      "Epoch: 65 Average loss: 0.0075\n",
      "Epoch: 66 Average loss: 0.0075\n",
      "Epoch: 67 Average loss: 0.0074\n",
      "Epoch: 68 Average loss: 0.0074\n",
      "Epoch: 69 Average loss: 0.0073\n",
      "Epoch: 70 Average loss: 0.0073\n",
      "Epoch: 71 Average loss: 0.0073\n",
      "Epoch: 72 Average loss: 0.0072\n",
      "Epoch: 73 Average loss: 0.0072\n",
      "Epoch: 74 Average loss: 0.0072\n",
      "Epoch: 75 Average loss: 0.0071\n",
      "Epoch: 76 Average loss: 0.0071\n",
      "Epoch: 77 Average loss: 0.0071\n",
      "Epoch: 78 Average loss: 0.0070\n",
      "Epoch: 79 Average loss: 0.0070\n",
      "Epoch: 80 Average loss: 0.0070\n",
      "Epoch: 81 Average loss: 0.0069\n",
      "Epoch: 82 Average loss: 0.0069\n",
      "Epoch: 83 Average loss: 0.0069\n",
      "Epoch: 84 Average loss: 0.0068\n",
      "Epoch: 85 Average loss: 0.0068\n",
      "Epoch: 86 Average loss: 0.0068\n",
      "Epoch: 87 Average loss: 0.0067\n",
      "Epoch: 88 Average loss: 0.0067\n",
      "Epoch: 89 Average loss: 0.0067\n",
      "Epoch: 90 Average loss: 0.0066\n",
      "Epoch: 91 Average loss: 0.0066\n",
      "Epoch: 92 Average loss: 0.0066\n",
      "Epoch: 93 Average loss: 0.0066\n",
      "Epoch: 94 Average loss: 0.0065\n",
      "Epoch: 95 Average loss: 0.0065\n",
      "Epoch: 96 Average loss: 0.0065\n",
      "Epoch: 97 Average loss: 0.0065\n",
      "Epoch: 98 Average loss: 0.0064\n",
      "Epoch: 99 Average loss: 0.0064\n"
     ]
    }
   ],
   "source": [
    "epochs = 50\n",
    "loss_list = []\n",
    "predictions_list = []\n",
    "for epoch in range(0,epochs):\n",
    "    ae.train()\n",
    "    train_loss = 0\n",
    "    # to get the latest predictions for sake of report only\n",
    "    predictions = []\n",
    "    for batchId, (data,_) in enumerate(train_loader):\n",
    "        data  = Variable(data)\n",
    "        data = data.view(data.size(0),-1)\n",
    "        # gradient is set to 0\n",
    "        optimizer.zero_grad()\n",
    "        # passing through the network\n",
    "        net_out, mu, logvar = ae(data)\n",
    "        # calculaing loss\n",
    "        loss = loss_function(net_out, data, mu, logvar)\n",
    "        # propogating loss at current step\n",
    "        loss.backward()\n",
    "        # updating parameters (in steps) after gradient descent\n",
    "        optimizer.step()\n",
    "        # calculate total loss\n",
    "        train_loss += loss\n",
    "        # predictions\n",
    "#         predictions.append(net_out)\n",
    "#         predictions_list.append(net_out)\n",
    "    loss_list.append(train_loss)\n",
    "    print('Epoch: {} Average loss: {:.4f}'.format(\n",
    "        epoch, train_loss / len(train_loader.dataset)))"
   ]
  },
  {
   "cell_type": "code",
   "execution_count": 165,
   "metadata": {},
   "outputs": [],
   "source": [
    "torch.save(ae, \"hw5_vae.pth\")"
   ]
  },
  {
   "cell_type": "code",
   "execution_count": 166,
   "metadata": {},
   "outputs": [
    {
     "data": {
      "image/png": "[encoded data removed]",
      "text/plain": [
       "<Figure size 432x288 with 1 Axes>"
      ]
     },
     "metadata": {
      "needs_background": "light"
     },
     "output_type": "display_data"
    }
   ],
   "source": [
    "plt.plot(loss_list)\n",
    "plt.savefig(fname='vae.png',format='png')"
   ]
  },
  {
   "cell_type": "code",
   "execution_count": null,
   "metadata": {},
   "outputs": [],
   "source": [
    "\n"
   ]
  },
  {
   "cell_type": "code",
   "execution_count": null,
   "metadata": {},
   "outputs": [],
   "source": []
  }
 ],
 "metadata": {
  "kernelspec": {
   "display_name": "myenv",
   "language": "python",
   "name": "myenv"
  },
  "language_info": {
   "codemirror_mode": {
    "name": "ipython",
    "version": 3
   },
   "file_extension": ".py",
   "mimetype": "text/x-python",
   "name": "python",
   "nbconvert_exporter": "python",
   "pygments_lexer": "ipython3",
   "version": "3.7.2"
  }
 },
 "nbformat": 4,
 "nbformat_minor": 2
}
