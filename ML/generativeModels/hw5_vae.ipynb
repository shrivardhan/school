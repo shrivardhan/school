{
 "cells": [
  {
   "cell_type": "code",
   "execution_count": 2,
   "metadata": {},
   "outputs": [],
   "source": [
    "import matplotlib.pyplot as plt\n",
    "import pandas as pd\n",
    "import numpy as np\n",
    "import torch\n",
    "import torchvision\n",
    "import torchvision.transforms as transforms\n",
    "import torch.optim as optim\n",
    "from torch.autograd import Variable\n",
    "import torch.nn as nn\n",
    "import torch.nn.functional as F"
   ]
  },
  {
   "cell_type": "code",
   "execution_count": 3,
   "metadata": {},
   "outputs": [],
   "source": [
    "class vAE(nn.Module):\n",
    "    def __init__(self):\n",
    "        super(vAE,self).__init__()\n",
    "\n",
    "        self.fc1 = nn.Linear(784, 400)\n",
    "        self.fc21 = nn.Linear(400, 20)\n",
    "        self.fc22 = nn.Linear(400, 20)\n",
    "        self.fc3 = nn.Linear(20, 400)\n",
    "        self.fc4 = nn.Linear(400, 784)\n",
    "\n",
    "    def encode(self, x):\n",
    "        h1 = F.relu(self.fc1(x))\n",
    "        return self.fc21(h1), self.fc22(h1)\n",
    "\n",
    "    def reparametrize(self, mu, logvar):\n",
    "        std = logvar.mul(0.5).exp_()\n",
    "        eps = Variable(torch.FloatTensor(std.size()).normal_())\n",
    "        return eps.mul(std).add_(mu)\n",
    "\n",
    "    def decode(self, z):\n",
    "        h3 = F.relu(self.fc3(z))\n",
    "        return F.sigmoid(self.fc4(h3))\n",
    "\n",
    "    def forward(self, x):\n",
    "        mu, logvar = self.encode(x)\n",
    "        z = self.reparametrize(mu, logvar)\n",
    "        return self.decode(z), mu, logvar"
   ]
  },
  {
   "cell_type": "code",
   "execution_count": 4,
   "metadata": {},
   "outputs": [],
   "source": [
    "transform = transforms.Compose([transforms.ToTensor()])\n",
    "trainset = torchvision.datasets.MNIST(root = './', train = True, download = True,transform = transform)\n",
    "testset = torchvision.datasets.MNIST(root = './', train = False, download = True,transform = transform)\n",
    "train_loader = torch.utils.data.DataLoader(trainset, batch_size = 64, shuffle = True)\n",
    "test_loader = torch.utils.data.DataLoader(testset, batch_size = 64, shuffle = False)"
   ]
  },
  {
   "cell_type": "code",
   "execution_count": 5,
   "metadata": {},
   "outputs": [
    {
     "name": "stdout",
     "output_type": "stream",
     "text": [
      "vAE(\n",
      "  (fc1): Linear(in_features=784, out_features=400, bias=True)\n",
      "  (fc21): Linear(in_features=400, out_features=20, bias=True)\n",
      "  (fc22): Linear(in_features=400, out_features=20, bias=True)\n",
      "  (fc3): Linear(in_features=20, out_features=400, bias=True)\n",
      "  (fc4): Linear(in_features=400, out_features=784, bias=True)\n",
      ")\n"
     ]
    }
   ],
   "source": [
    "# init the network\n",
    "ae = vAE()\n",
    "print(ae)"
   ]
  },
  {
   "cell_type": "code",
   "execution_count": 6,
   "metadata": {},
   "outputs": [
    {
     "name": "stdout",
     "output_type": "stream",
     "text": [
      "BCELoss()\n",
      "SGD (\n",
      "Parameter Group 0\n",
      "    dampening: 0\n",
      "    lr: 0.001\n",
      "    momentum: 0\n",
      "    nesterov: False\n",
      "    weight_decay: 0\n",
      ")\n"
     ]
    }
   ],
   "source": [
    "#init optimizer\n",
    "optimizer = optim.SGD(ae.parameters(), lr = 0.001)\n",
    "# init loss function\n",
    "criterion = nn.BCELoss()\n",
    "print(criterion)\n",
    "print(optimizer)"
   ]
  },
  {
   "cell_type": "code",
   "execution_count": 7,
   "metadata": {},
   "outputs": [],
   "source": [
    "def loss_function(new_x, x, mu, logvar):\n",
    "    BCE = criterion(new_x, x)\n",
    "    KLD_element = mu.pow(2).add_(logvar.exp()).mul_(-1).add_(1).add_(logvar)\n",
    "    KLD = torch.sum(KLD_element).mul_(-0.5)\n",
    "    # KL divergence\n",
    "    return BCE + KLD"
   ]
  },
  {
   "cell_type": "code",
   "execution_count": 8,
   "metadata": {},
   "outputs": [
    {
     "name": "stderr",
     "output_type": "stream",
     "text": [
      "/Users/deadsenses/myenv/lib/python3.7/site-packages/torch/nn/functional.py:1351: UserWarning: nn.functional.sigmoid is deprecated. Use torch.sigmoid instead.\n",
      "  warnings.warn(\"nn.functional.sigmoid is deprecated. Use torch.sigmoid instead.\")\n"
     ]
    },
    {
     "name": "stdout",
     "output_type": "stream",
     "text": [
      "Epoch: 0 Average loss: 0.0168\n",
      "Epoch: 1 Average loss: 0.0116\n",
      "Epoch: 2 Average loss: 0.0111\n",
      "Epoch: 3 Average loss: 0.0109\n",
      "Epoch: 4 Average loss: 0.0108\n",
      "Epoch: 5 Average loss: 0.0107\n",
      "Epoch: 6 Average loss: 0.0106\n",
      "Epoch: 7 Average loss: 0.0105\n",
      "Epoch: 8 Average loss: 0.0105\n",
      "Epoch: 9 Average loss: 0.0104\n"
     ]
    }
   ],
   "source": [
    "epochs = 10\n",
    "loss_list = []\n",
    "predictions_list = []\n",
    "for epoch in range(0,epochs):\n",
    "    ae.train()\n",
    "    train_loss = 0\n",
    "    # to get the latest predictions for sake of report only\n",
    "    predictions = []\n",
    "    for batchId, (data,_) in enumerate(train_loader):\n",
    "        data  = Variable(data)\n",
    "        data = data.view(data.size(0),-1)\n",
    "        # gradient is set to 0\n",
    "        optimizer.zero_grad()\n",
    "        # passing through the network\n",
    "        net_out, mu, logvar = ae(data)\n",
    "        # calculaing loss\n",
    "        loss = loss_function(net_out, data, mu, logvar)\n",
    "        # propogating loss at current step\n",
    "        loss.backward()\n",
    "        # updating parameters (in steps) after gradient descent\n",
    "        optimizer.step()\n",
    "        # calculate total loss\n",
    "        train_loss += loss\n",
    "        # predictions\n",
    "        predictions.append(net_out)\n",
    "        predictions_list.append(net_out)\n",
    "    loss_list.append(train_loss)\n",
    "    print('Epoch: {} Average loss: {:.4f}'.format(\n",
    "        epoch, train_loss / len(train_loader.dataset)))"
   ]
  },
  {
   "cell_type": "code",
   "execution_count": 9,
   "metadata": {},
   "outputs": [
    {
     "name": "stderr",
     "output_type": "stream",
     "text": [
      "/Users/deadsenses/myenv/lib/python3.7/site-packages/torch/serialization.py:292: UserWarning: Couldn't retrieve source code for container of type vAE. It won't be checked for correctness upon loading.\n",
      "  \"type \" + obj.__name__ + \". It won't be checked \"\n",
      "/Users/deadsenses/myenv/lib/python3.7/site-packages/torch/serialization.py:292: UserWarning: Couldn't retrieve source code for container of type Linear. It won't be checked for correctness upon loading.\n",
      "  \"type \" + obj.__name__ + \". It won't be checked \"\n"
     ]
    }
   ],
   "source": [
    "torch.save(ae, \"hw5_vae.pth\")"
   ]
  },
  {
   "cell_type": "code",
   "execution_count": 10,
   "metadata": {},
   "outputs": [
    {
     "data": {
      "image/png": "[encoded data removed]",
      "text/plain": [
       "<Figure size 432x288 with 1 Axes>"
      ]
     },
     "metadata": {
      "needs_background": "light"
     },
     "output_type": "display_data"
    }
   ],
   "source": [
    "plt.plot(loss_list)\n",
    "plt.savefig(fname='vae.png',format='png')"
   ]
  },
  {
   "cell_type": "code",
   "execution_count": 117,
   "metadata": {},
   "outputs": [],
   "source": [
    "# figure = plt.figure()\n",
    "# num_of_images = 16\n",
    "# images = []\n",
    "# for i in predictions:\n",
    "#     images.append(i.view(i.size(0), 1, 28, 28))\n",
    "# # images = predictions.view(predictions.size(0), 1, 28, 28)\n",
    "# # _, axes = plt.subplots(1,2)\n",
    "# for index in range(0, num_of_images):\n",
    "#     plt.subplot(4, 4, index+1)\n",
    "#     plt.imshow(np.moveaxis(images[index].detach().numpy().squeeze(), 0, -1), cmap='gray_r')\n",
    "#     plt.axis('off')\n",
    "#     plt.savefig(fname='vae_{}.png'.format(index),format='png')"
   ]
  },
  {
   "cell_type": "code",
   "execution_count": 19,
   "metadata": {},
   "outputs": [
    {
     "data": {
      "image/png": "[encoded data removed]",
      "text/plain": [
       "<Figure size 432x288 with 16 Axes>"
      ]
     },
     "metadata": {
      "needs_background": "light"
     },
     "output_type": "display_data"
    }
   ],
   "source": [
    "figure = plt.figure()\n",
    "num_of_images = 16\n",
    "index = 0\n",
    "for batchId, (data,_) in enumerate(test_loader):\n",
    "    index += 1\n",
    "    data  = Variable(data)\n",
    "    data = data.view(data.size(0),-1)\n",
    "    res = ae(data)\n",
    "    plt.subplot(4, 4, index)\n",
    "    plt.imshow(res[1].detach().numpy().squeeze(), cmap='gray_r')\n",
    "    plt.axis('off')\n",
    "    if index == 16:\n",
    "        break\n",
    "\n",
    "# _, axes = plt.subplots(1,2)\n"
   ]
  },
  {
   "cell_type": "code",
   "execution_count": null,
   "metadata": {},
   "outputs": [],
   "source": []
  }
 ],
 "metadata": {
  "kernelspec": {
   "display_name": "myenv",
   "language": "python",
   "name": "myenv"
  },
  "language_info": {
   "codemirror_mode": {
    "name": "ipython",
    "version": 3
   },
   "file_extension": ".py",
   "mimetype": "text/x-python",
   "name": "python",
   "nbconvert_exporter": "python",
   "pygments_lexer": "ipython3",
   "version": "3.7.2"
  }
 },
 "nbformat": 4,
 "nbformat_minor": 2
}
