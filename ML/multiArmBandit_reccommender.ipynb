{
 "cells": [
  {
   "cell_type": "code",
   "execution_count": 1,
   "metadata": {},
   "outputs": [],
   "source": [
    "# Karthik Unnikrishnan\n",
    "# Sai Kumar Kayala"
   ]
  },
  {
   "cell_type": "code",
   "execution_count": 2,
   "metadata": {},
   "outputs": [],
   "source": [
    "import pandas as pd\n",
    "import matplotlib.pyplot as plt\n",
    "import numpy as np\n",
    "\n",
    "%matplotlib inline\n",
    "\n",
    "from lenskit import batch, topn, util\n",
    "from lenskit import crossfold as xf\n",
    "from lenskit.algorithms import Recommender, basic, item_knn, user_knn, als, funksvd\n",
    "from lenskit import topn\n",
    "from lenskit.metrics import predict\n"
   ]
  },
  {
   "cell_type": "code",
   "execution_count": 3,
   "metadata": {},
   "outputs": [
    {
     "name": "stderr",
     "output_type": "stream",
     "text": [
      "/home/sai/anaconda3/lib/python3.7/site-packages/ipykernel_launcher.py:2: ParserWarning: Falling back to the 'python' engine because the 'c' engine does not support regex separators (separators > 1 char and different from '\\s+' are interpreted as regex); you can avoid this warning by specifying engine='python'.\n",
      "  \n"
     ]
    }
   ],
   "source": [
    "ratings=pd.read_csv('ml-1m/ratings.dat', sep='::',\n",
    "                      names=['user', 'item', 'rating', 'timestamp'])"
   ]
  },
  {
   "cell_type": "code",
   "execution_count": 4,
   "metadata": {},
   "outputs": [],
   "source": [
    "\n",
    "from lenskit.algorithms import Predictor\n",
    "from lenskit.algorithms.basic import Bias\n",
    "from lenskit.metrics.predict import rmse\n",
    "\n",
    "def eval( algo, train, test):\n",
    "    algo = util.clone(algo)\n",
    "    algo.fit(train)\n",
    "    preds = Predictor.predict(algo, test)\n",
    "    return preds"
   ]
  },
  {
   "cell_type": "code",
   "execution_count": 5,
   "metadata": {},
   "outputs": [],
   "source": [
    "# for FunkSVD as base model to compare other approaches\n",
    "\n",
    "algo_funk=funksvd.FunkSVD(4, iterations=1000, lrate=0.0002)\n",
    "truth=[]\n",
    "preds_funk=[]\n",
    "\n",
    "for train, test in xf.partition_users(ratings, 5, xf.SampleFrac(0.2)):\n",
    "    truth.append(test)\n",
    "    preds_funk.append(eval( algo_funk, train, test))\n",
    "\n",
    "\n",
    "truth=pd.concat(truth,ignore_index=True)\n",
    "preds_funk=pd.concat(preds_funk,ignore_index=True)    \n",
    "    \n",
    "rmse_funk=predict.rmse(truth['rating'],preds_funk.values,missing='ignore')"
   ]
  },
  {
   "cell_type": "code",
   "execution_count": 6,
   "metadata": {},
   "outputs": [
    {
     "name": "stdout",
     "output_type": "stream",
     "text": [
      "RMSE value for FunkSVD is: 0.8675086191649507\n"
     ]
    }
   ],
   "source": [
    "print(\"RMSE value for FunkSVD is:\",str(rmse_funk))"
   ]
  },
  {
   "cell_type": "code",
   "execution_count": 7,
   "metadata": {},
   "outputs": [
    {
     "name": "stderr",
     "output_type": "stream",
     "text": [
      "Using TensorFlow backend.\n"
     ]
    }
   ],
   "source": [
    "#import libraries for NN approach\n",
    "import keras\n",
    "from keras.layers import Embedding, Reshape, dot\n",
    "from keras.models import Sequential\n",
    "from keras.optimizers import Adam\n",
    "from keras.callbacks import EarlyStopping, ModelCheckpoint\n",
    "from keras.utils import plot_model\n",
    "from keras import backend as K\n",
    "from sklearn.model_selection import train_test_split\n"
   ]
  },
  {
   "cell_type": "code",
   "execution_count": 8,
   "metadata": {},
   "outputs": [],
   "source": [
    "#Get number of unique users and ratings\n",
    "n_users, n_movies = max(ratings.user.unique()), max(ratings.item.unique())"
   ]
  },
  {
   "cell_type": "code",
   "execution_count": 9,
   "metadata": {},
   "outputs": [
    {
     "name": "stderr",
     "output_type": "stream",
     "text": [
      "/home/sai/anaconda3/lib/python3.7/site-packages/ipykernel_launcher.py:1: UserWarning: Pandas doesn't allow columns to be created via a new attribute name - see https://pandas.pydata.org/pandas-docs/stable/indexing.html#attribute-access\n",
      "  \"\"\"Entry point for launching an IPython kernel.\n",
      "/home/sai/anaconda3/lib/python3.7/site-packages/ipykernel_launcher.py:2: UserWarning: Pandas doesn't allow columns to be created via a new attribute name - see https://pandas.pydata.org/pandas-docs/stable/indexing.html#attribute-access\n",
      "  \n"
     ]
    }
   ],
   "source": [
    "ratings.userId = ratings.user.astype('category').cat.codes.values\n",
    "ratings.movieId = ratings.item.astype('category').cat.codes.values"
   ]
  },
  {
   "cell_type": "code",
   "execution_count": 10,
   "metadata": {},
   "outputs": [],
   "source": [
    "#Split the data into training set (95%) and test set(5%)\n",
    "train, test = train_test_split(ratings, test_size=0.05)"
   ]
  },
  {
   "cell_type": "code",
   "execution_count": 11,
   "metadata": {},
   "outputs": [],
   "source": [
    "#RMSE loss function for optimization\n",
    "\n",
    "def root_mean_squared_error(y_true, y_pred):\n",
    "        return K.sqrt(K.mean(K.square(y_pred - y_true))) "
   ]
  },
  {
   "cell_type": "code",
   "execution_count": 12,
   "metadata": {},
   "outputs": [],
   "source": [
    "#define the first model \n",
    "#Model that simply takes the sdot product of the user and item latent factor embeddings to predict scores\n",
    "\n",
    "def embedding_v1(n_latent_factors) :\n",
    "    movie_input = keras.layers.Input(shape=[1],name='Item')\n",
    "    movie_embedding = keras.layers.Embedding(n_movies + 1, n_latent_factors, name='Movie-Embedding')(movie_input)\n",
    "    movie_vec = keras.layers.Flatten(name='FlattenMovies')(movie_embedding)\n",
    "\n",
    "    user_input = keras.layers.Input(shape=[1],name='User')\n",
    "    user_vec = keras.layers.Flatten(name='FlattenUsers')(keras.layers.Embedding(n_users + 1, n_latent_factors,name='User-Embedding')(user_input))\n",
    "    prod = keras.layers.dot([movie_vec, user_vec], axes=1,name='DotProduct')\n",
    "    \n",
    "    model = keras.Model([user_input, movie_input], prod)\n",
    "    model.compile('adam', loss = root_mean_squared_error, \n",
    "              metrics =[\"accuracy\"])\n",
    "    \n",
    "    return model"
   ]
  },
  {
   "cell_type": "code",
   "execution_count": 13,
   "metadata": {},
   "outputs": [
    {
     "name": "stdout",
     "output_type": "stream",
     "text": [
      "WARNING:tensorflow:From /home/sai/anaconda3/lib/python3.7/site-packages/tensorflow/python/framework/op_def_library.py:263: colocate_with (from tensorflow.python.framework.ops) is deprecated and will be removed in a future version.\n",
      "Instructions for updating:\n",
      "Colocations handled automatically by placer.\n"
     ]
    }
   ],
   "source": [
    "# Initialize model with 10 latent features\n",
    "model_1 = embedding_v1(5)"
   ]
  },
  {
   "cell_type": "code",
   "execution_count": 14,
   "metadata": {},
   "outputs": [
    {
     "name": "stdout",
     "output_type": "stream",
     "text": [
      "__________________________________________________________________________________________________\n",
      "Layer (type)                    Output Shape         Param #     Connected to                     \n",
      "==================================================================================================\n",
      "Item (InputLayer)               (None, 1)            0                                            \n",
      "__________________________________________________________________________________________________\n",
      "User (InputLayer)               (None, 1)            0                                            \n",
      "__________________________________________________________________________________________________\n",
      "Movie-Embedding (Embedding)     (None, 1, 5)         19765       Item[0][0]                       \n",
      "__________________________________________________________________________________________________\n",
      "User-Embedding (Embedding)      (None, 1, 5)         30205       User[0][0]                       \n",
      "__________________________________________________________________________________________________\n",
      "FlattenMovies (Flatten)         (None, 5)            0           Movie-Embedding[0][0]            \n",
      "__________________________________________________________________________________________________\n",
      "FlattenUsers (Flatten)          (None, 5)            0           User-Embedding[0][0]             \n",
      "__________________________________________________________________________________________________\n",
      "DotProduct (Dot)                (None, 1)            0           FlattenMovies[0][0]              \n",
      "                                                                 FlattenUsers[0][0]               \n",
      "==================================================================================================\n",
      "Total params: 49,970\n",
      "Trainable params: 49,970\n",
      "Non-trainable params: 0\n",
      "__________________________________________________________________________________________________\n"
     ]
    }
   ],
   "source": [
    "#Get a summary of model\n",
    "model_1.summary()"
   ]
  },
  {
   "cell_type": "code",
   "execution_count": 15,
   "metadata": {},
   "outputs": [
    {
     "name": "stdout",
     "output_type": "stream",
     "text": [
      "WARNING:tensorflow:From /home/sai/anaconda3/lib/python3.7/site-packages/tensorflow/python/ops/math_ops.py:3066: to_int32 (from tensorflow.python.ops.math_ops) is deprecated and will be removed in a future version.\n",
      "Instructions for updating:\n",
      "Use tf.cast instead.\n",
      "Epoch 1/10\n",
      "950198/950198 [==============================] - 31s 33us/step - loss: 1.6728 - acc: 0.2786\n",
      "Epoch 2/10\n",
      "950198/950198 [==============================] - 30s 31us/step - loss: 0.9379 - acc: 0.4153\n",
      "Epoch 3/10\n",
      "950198/950198 [==============================] - 30s 31us/step - loss: 0.9232 - acc: 0.4200\n",
      "Epoch 4/10\n",
      "950198/950198 [==============================] - 30s 31us/step - loss: 0.9185 - acc: 0.4214\n",
      "Epoch 5/10\n",
      "950198/950198 [==============================] - 30s 31us/step - loss: 0.9115 - acc: 0.4246\n",
      "Epoch 6/10\n",
      "950198/950198 [==============================] - 30s 32us/step - loss: 0.8995 - acc: 0.4312\n",
      "Epoch 7/10\n",
      "950198/950198 [==============================] - 30s 31us/step - loss: 0.8870 - acc: 0.4387\n",
      "Epoch 8/10\n",
      "950198/950198 [==============================] - 30s 32us/step - loss: 0.8783 - acc: 0.4440\n",
      "Epoch 9/10\n",
      "950198/950198 [==============================] - 30s 32us/step - loss: 0.8718 - acc: 0.4473\n",
      "Epoch 10/10\n",
      "950198/950198 [==============================] - 31s 32us/step - loss: 0.8662 - acc: 0.4512\n"
     ]
    }
   ],
   "source": [
    "#fit the model for training data\n",
    "history = model_1.fit([train.user, train.item], train.rating, epochs=10)"
   ]
  },
  {
   "cell_type": "code",
   "execution_count": 16,
   "metadata": {},
   "outputs": [],
   "source": [
    "y_pred=model_1.predict([test.user,test.item])"
   ]
  },
  {
   "cell_type": "code",
   "execution_count": 43,
   "metadata": {},
   "outputs": [
    {
     "name": "stdout",
     "output_type": "stream",
     "text": [
      "50011/50011 [==============================] - 1s 15us/step\n",
      "RMSE for model_1 is:0.8741118925519887\n"
     ]
    }
   ],
   "source": [
    "rms= model_1.evaluate([test.user, test.item], test.rating)[0]\n",
    "print(\"RMSE for model_1 is:\"+str(rms))"
   ]
  },
  {
   "cell_type": "code",
   "execution_count": 55,
   "metadata": {},
   "outputs": [],
   "source": [
    "# Model 2: Adding 1 dimensional convolutional layers to the concatenated user and movie embeddings, \n",
    "# and then feeding it to a fully connected network\n",
    "\n",
    "def embeddings_conv1D(n_latent_factors_user, n_latent_factors_movie):\n",
    "    \n",
    "    movie_input = keras.layers.Input(shape=[1],name='Item')\n",
    "    movie_embedding = keras.layers.Embedding(n_movies + 1, n_latent_factors_movie, name='Movie-Embedding')(movie_input)\n",
    "    movie_vec = keras.layers.Flatten(name='FlattenMovies')(movie_embedding)\n",
    "\n",
    "    user_input = keras.layers.Input(shape=[1],name='User')\n",
    "    user_vec = keras.layers.Flatten(name='FlattenUsers')(keras.layers.Embedding(n_users + 1, n_latent_factors_user,name='User-Embedding')(user_input))\n",
    "\n",
    "    concat = keras.layers.Concatenate()([movie_vec, user_vec])\n",
    "    dense = keras.layers.Dense(256,name='FullyConnected')(concat)\n",
    "    dense=keras.layers.Reshape((256,1))(dense)\n",
    "    dense=keras.layers.Conv1D(128,3)(dense)\n",
    "    dense=keras.layers.Conv1D(5,3)(dense)\n",
    "    dense=keras.layers.Flatten()(dense)\n",
    "    dense_3 = keras.layers.Dense(64,name='FullyConnected-2')(dense)\n",
    "    dense_4 = keras.layers.Dense(10,name='FullyConnected-3', activation='relu')(dense_3)\n",
    "\n",
    "\n",
    "    result = keras.layers.Dense(1, activation='relu',name='Activation')(dense_4)\n",
    "    adam = Adam(lr=0.001)\n",
    "    model = keras.Model([user_input, movie_input], result)\n",
    "    model.compile(optimizer=adam,loss= root_mean_squared_error)\n",
    "    return model"
   ]
  },
  {
   "cell_type": "code",
   "execution_count": 56,
   "metadata": {},
   "outputs": [],
   "source": [
    "model_2=embeddings_conv1D(5,5)"
   ]
  },
  {
   "cell_type": "code",
   "execution_count": 57,
   "metadata": {},
   "outputs": [
    {
     "name": "stdout",
     "output_type": "stream",
     "text": [
      "__________________________________________________________________________________________________\n",
      "Layer (type)                    Output Shape         Param #     Connected to                     \n",
      "==================================================================================================\n",
      "Item (InputLayer)               (None, 1)            0                                            \n",
      "__________________________________________________________________________________________________\n",
      "User (InputLayer)               (None, 1)            0                                            \n",
      "__________________________________________________________________________________________________\n",
      "Movie-Embedding (Embedding)     (None, 1, 5)         19765       Item[0][0]                       \n",
      "__________________________________________________________________________________________________\n",
      "User-Embedding (Embedding)      (None, 1, 5)         30205       User[0][0]                       \n",
      "__________________________________________________________________________________________________\n",
      "FlattenMovies (Flatten)         (None, 5)            0           Movie-Embedding[0][0]            \n",
      "__________________________________________________________________________________________________\n",
      "FlattenUsers (Flatten)          (None, 5)            0           User-Embedding[0][0]             \n",
      "__________________________________________________________________________________________________\n",
      "concatenate_8 (Concatenate)     (None, 10)           0           FlattenMovies[0][0]              \n",
      "                                                                 FlattenUsers[0][0]               \n",
      "__________________________________________________________________________________________________\n",
      "FullyConnected (Dense)          (None, 256)          2816        concatenate_8[0][0]              \n",
      "__________________________________________________________________________________________________\n",
      "reshape_3 (Reshape)             (None, 256, 1)       0           FullyConnected[0][0]             \n",
      "__________________________________________________________________________________________________\n",
      "conv1d_7 (Conv1D)               (None, 254, 128)     512         reshape_3[0][0]                  \n",
      "__________________________________________________________________________________________________\n",
      "conv1d_8 (Conv1D)               (None, 252, 5)       1925        conv1d_7[0][0]                   \n",
      "__________________________________________________________________________________________________\n",
      "flatten_3 (Flatten)             (None, 1260)         0           conv1d_8[0][0]                   \n",
      "__________________________________________________________________________________________________\n",
      "FullyConnected-2 (Dense)        (None, 64)           80704       flatten_3[0][0]                  \n",
      "__________________________________________________________________________________________________\n",
      "FullyConnected-3 (Dense)        (None, 10)           650         FullyConnected-2[0][0]           \n",
      "__________________________________________________________________________________________________\n",
      "Activation (Dense)              (None, 1)            11          FullyConnected-3[0][0]           \n",
      "==================================================================================================\n",
      "Total params: 136,588\n",
      "Trainable params: 136,588\n",
      "Non-trainable params: 0\n",
      "__________________________________________________________________________________________________\n"
     ]
    }
   ],
   "source": [
    "model_2.summary()"
   ]
  },
  {
   "cell_type": "code",
   "execution_count": 58,
   "metadata": {},
   "outputs": [
    {
     "name": "stdout",
     "output_type": "stream",
     "text": [
      "Epoch 1/10\n",
      "950198/950198 [==============================] - 34s 36us/step - loss: 0.9360\n",
      "Epoch 2/10\n",
      "950198/950198 [==============================] - 34s 36us/step - loss: 0.9050\n",
      "Epoch 3/10\n",
      "950198/950198 [==============================] - 38s 40us/step - loss: 0.8932\n",
      "Epoch 4/10\n",
      "950198/950198 [==============================] - 42s 44us/step - loss: 0.8859\n",
      "Epoch 5/10\n",
      "950198/950198 [==============================] - 38s 40us/step - loss: 0.8809\n",
      "Epoch 6/10\n",
      "950198/950198 [==============================] - 40s 42us/step - loss: 0.8759\n",
      "Epoch 7/10\n",
      "950198/950198 [==============================] - 38s 40us/step - loss: 0.8716\n",
      "Epoch 8/10\n",
      "950198/950198 [==============================] - 32s 34us/step - loss: 0.8681\n",
      "Epoch 9/10\n",
      "950198/950198 [==============================] - 37s 39us/step - loss: 0.8652\n",
      "Epoch 10/10\n",
      "950198/950198 [==============================] - 34s 36us/step - loss: 0.8627\n"
     ]
    }
   ],
   "source": [
    "history = model_2.fit([train.user, train.item], train.rating, epochs=10,batch_size=128)"
   ]
  },
  {
   "cell_type": "code",
   "execution_count": 63,
   "metadata": {},
   "outputs": [
    {
     "name": "stdout",
     "output_type": "stream",
     "text": [
      "50011/50011 [==============================] - 1s 27us/step\n",
      "0.8701149790639466\n"
     ]
    }
   ],
   "source": [
    "rms= model_2.evaluate([test.user, test.item], test.rating)\n",
    "print(rms)"
   ]
  },
  {
   "cell_type": "code",
   "execution_count": 30,
   "metadata": {},
   "outputs": [],
   "source": [
    "# Model with embeddings and fully connected layers\n",
    "\n",
    "def embedding_fully_connected(n_latent_factors_user, n_latent_factors_movie):\n",
    "    \n",
    "    movie_input = keras.layers.Input(shape=[1],name='Item')\n",
    "    movie_embedding = keras.layers.Embedding(n_movies + 1, n_latent_factors_movie, name='Movie-Embedding')(movie_input)\n",
    "    movie_vec = keras.layers.Flatten(name='FlattenMovies')(movie_embedding)\n",
    "\n",
    "    user_input = keras.layers.Input(shape=[1],name='User')\n",
    "    user_vec = keras.layers.Flatten(name='FlattenUsers')(keras.layers.Embedding(n_users + 1, n_latent_factors_user,name='User-Embedding')(user_input))\n",
    "\n",
    "    concat = keras.layers.Concatenate()([movie_vec, user_vec])\n",
    "    # add fully-connected-layers\n",
    "    fc1 = keras.layers.Dense(128, activation='relu')(concat)\n",
    "    fc2 = keras.layers.Dense(32, activation='relu')(fc1)\n",
    "\n",
    "    result = keras.layers.Dense(1, activation='linear',name='Activation')(fc2)\n",
    "    adam = Adam(lr=0.001)\n",
    "    model = keras.Model([user_input, movie_input], result)\n",
    "    model.compile(optimizer=adam,loss= root_mean_squared_error)\n",
    "    return model"
   ]
  },
  {
   "cell_type": "code",
   "execution_count": 32,
   "metadata": {},
   "outputs": [
    {
     "name": "stdout",
     "output_type": "stream",
     "text": [
      "__________________________________________________________________________________________________\n",
      "Layer (type)                    Output Shape         Param #     Connected to                     \n",
      "==================================================================================================\n",
      "Item (InputLayer)               (None, 1)            0                                            \n",
      "__________________________________________________________________________________________________\n",
      "User (InputLayer)               (None, 1)            0                                            \n",
      "__________________________________________________________________________________________________\n",
      "Movie-Embedding (Embedding)     (None, 1, 5)         19765       Item[0][0]                       \n",
      "__________________________________________________________________________________________________\n",
      "User-Embedding (Embedding)      (None, 1, 5)         30205       User[0][0]                       \n",
      "__________________________________________________________________________________________________\n",
      "FlattenMovies (Flatten)         (None, 5)            0           Movie-Embedding[0][0]            \n",
      "__________________________________________________________________________________________________\n",
      "FlattenUsers (Flatten)          (None, 5)            0           User-Embedding[0][0]             \n",
      "__________________________________________________________________________________________________\n",
      "concatenate_5 (Concatenate)     (None, 10)           0           FlattenMovies[0][0]              \n",
      "                                                                 FlattenUsers[0][0]               \n",
      "__________________________________________________________________________________________________\n",
      "dense_2 (Dense)                 (None, 128)          1408        concatenate_5[0][0]              \n",
      "__________________________________________________________________________________________________\n",
      "dense_3 (Dense)                 (None, 32)           4128        dense_2[0][0]                    \n",
      "__________________________________________________________________________________________________\n",
      "Activation (Dense)              (None, 1)            33          dense_3[0][0]                    \n",
      "==================================================================================================\n",
      "Total params: 55,539\n",
      "Trainable params: 55,539\n",
      "Non-trainable params: 0\n",
      "__________________________________________________________________________________________________\n"
     ]
    }
   ],
   "source": [
    "model_3.summary()"
   ]
  },
  {
   "cell_type": "code",
   "execution_count": 31,
   "metadata": {},
   "outputs": [],
   "source": [
    "model_3=embedding_fully_connected(5,5)"
   ]
  },
  {
   "cell_type": "code",
   "execution_count": 64,
   "metadata": {
    "scrolled": true
   },
   "outputs": [
    {
     "name": "stdout",
     "output_type": "stream",
     "text": [
      "Epoch 1/10\n",
      "950198/950198 [==============================] - 46s 48us/step - loss: 0.8315\n",
      "Epoch 2/10\n",
      "950198/950198 [==============================] - 45s 47us/step - loss: 0.8296\n",
      "Epoch 3/10\n",
      "950198/950198 [==============================] - 46s 49us/step - loss: 0.8283\n",
      "Epoch 4/10\n",
      "950198/950198 [==============================] - 47s 49us/step - loss: 0.8270\n",
      "Epoch 5/10\n",
      "950198/950198 [==============================] - 46s 48us/step - loss: 0.8258\n",
      "Epoch 6/10\n",
      "950198/950198 [==============================] - 45s 48us/step - loss: 0.8249\n",
      "Epoch 7/10\n",
      "950198/950198 [==============================] - 47s 49us/step - loss: 0.8237\n",
      "Epoch 8/10\n",
      "950198/950198 [==============================] - 47s 49us/step - loss: 0.8229\n",
      "Epoch 9/10\n",
      "950198/950198 [==============================] - 46s 49us/step - loss: 0.8221\n",
      "Epoch 10/10\n",
      "950198/950198 [==============================] - 47s 49us/step - loss: 0.8214\n"
     ]
    }
   ],
   "source": [
    "history = model_3.fit([train.user, train.item], train.rating, epochs=10)"
   ]
  },
  {
   "cell_type": "code",
   "execution_count": 65,
   "metadata": {},
   "outputs": [
    {
     "name": "stdout",
     "output_type": "stream",
     "text": [
      "50011/50011 [==============================] - 1s 16us/step\n",
      "RMSE for model_2 is:0.8514534224500582\n"
     ]
    }
   ],
   "source": [
    "rms= model_3.evaluate([test.user, test.item], test.rating)\n",
    "print(\"RMSE for model_3 is:\"+str(rms))"
   ]
  },
  {
   "cell_type": "markdown",
   "metadata": {},
   "source": [
    "Conclusions:\n",
    "\n",
    "As the baseline, we tried FunkSVD, which gave an RMSE of around 0.87\n",
    "\n",
    "For the neural network approach, we tried the following configurations:\n",
    "\n",
    "Model 1: This model used embeddings of user and items to 5 latent factors each. Then, a doot product of these embeddings was taken to get a predicted score. The RMSE in this case was around 0.88, which is very close to what we got for FunkSVD\n",
    "\n",
    "Model 2:  For this we tried adding 1D convolution layers after concatenating the user and movie embeddings. There was a slight improvement in RMSE though the improvement seemed to stagnate after 5 epochs.\n",
    "\n",
    "Model 2: In this model we added multiple fully connected layers, with 126 and 32 nodes each. We set the latent factors to 5 for users, and 5 for movies. This model gives an RMSE value of 0.85, which is better that all our previous models and the FunkSVD baseline\n",
    "\n",
    "\n",
    "\n",
    "\n",
    "\n",
    "\n",
    "\n"
   ]
  },
  {
   "cell_type": "markdown",
   "metadata": {},
   "source": [
    "Reference: For model 1: https://github.com/Gurupradeep/Movie-Recommendation-System/blob/master/MovieLens_Recommendation_Notebook.ipynb"
   ]
  }
 ],
 "metadata": {
  "kernelspec": {
   "display_name": "Python 3",
   "language": "python",
   "name": "python3"
  },
  "language_info": {
   "codemirror_mode": {
    "name": "ipython",
    "version": 3
   },
   "file_extension": ".py",
   "mimetype": "text/x-python",
   "name": "python",
   "nbconvert_exporter": "python",
   "pygments_lexer": "ipython3",
   "version": "3.7.3"
  }
 },
 "nbformat": 4,
 "nbformat_minor": 2
}
