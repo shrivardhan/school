{
 "cells": [
  {
   "cell_type": "code",
   "execution_count": 17,
   "metadata": {},
   "outputs": [],
   "source": [
    "import pandas as pd\n",
    "import numpy as np\n",
    "import matplotlib.pyplot as plt\n",
    "import test_score as ts\n",
    "import random\n",
    "from collections import Counter"
   ]
  },
  {
   "cell_type": "code",
   "execution_count": 3,
   "metadata": {},
   "outputs": [],
   "source": [
    "def getSamplePred(true_values, num_size):\n",
    "    # shuffling the indices for changing values\n",
    "    index = [i for i in range(true_values.shape[0])]\n",
    "    np.random.shuffle(index)\n",
    "#     true_values = true_values.set_index([index]).sort_index()\n",
    "    pred = true_values.copy()\n",
    "    max_val = true_values.max(axis=0)\n",
    "    min_val = true_values.min(axis=0)\n",
    "    for i in range(num_size):\n",
    "        pred.iloc[index[i],0] = random.randint(int(min_val), int(max_val))\n",
    "    return pred"
   ]
  },
  {
   "cell_type": "code",
   "execution_count": 8,
   "metadata": {},
   "outputs": [],
   "source": [
    "# get true values\n",
    "true_values = pd.read_csv('true_values.csv', header = None)\n",
    "\n",
    "num_predictors = 3\n",
    "predictors = []\n",
    "scores = []\n",
    "alpha = 1\n",
    "\n",
    "# creating predictors from true values\n",
    "for i in range(num_predictors):\n",
    "    # get predictor\n",
    "    pred = getSamplePred(true_values,int(true_values.shape[0]/3))\n",
    "    # append preditcor to preditocrs list\n",
    "    predictors.append(pred)\n",
    "    # append score to scores list\n",
    "    scores.append(ts.score(pred.to_numpy()))\n",
    "\n",
    "# creating threshold for learners by calculating the mean\n",
    "mean_threshold = sum(scores)/num_predictors\n"
   ]
  },
  {
   "cell_type": "code",
   "execution_count": 9,
   "metadata": {},
   "outputs": [],
   "source": [
    "def gradient(true_values,w,predictors):\n",
    "    h_new = []\n",
    "    # for each of the predictors\n",
    "    for h in predictors:\n",
    "        h_list = []\n",
    "        for i in range(true_values.shape[0]):\n",
    "            # find the residual\n",
    "            residual = true_values.iloc[i,0] - w[i]\n",
    "            h_list.append((h.iloc[i,0]-residual)**2)\n",
    "        # append the index\n",
    "        h_new.append(sum(h_list))\n",
    "    return h_new.index(min(h_new))\n"
   ]
  },
  {
   "cell_type": "code",
   "execution_count": 23,
   "metadata": {},
   "outputs": [],
   "source": [
    "def predictFunc(predictions, num_size):\n",
    "    # final prediction list\n",
    "    pred_list = []\n",
    "    # for each item\n",
    "    for i in range(num_size):\n",
    "        # prediction list for each item\n",
    "        pred = []\n",
    "        # in each prediction\n",
    "        for j in range(len(predictions)):\n",
    "            pred.append(predictions[j][i][0])\n",
    "        # get the mode of all all the predictions\n",
    "        pred_val,num_most_common = Counter(pred).most_common(1)[0]\n",
    "        pred_list.append(np.asarray([pred_val]))\n",
    "#         pred_list.append(max(set(pred), key=pred.count))\n",
    "    return pred_list"
   ]
  },
  {
   "cell_type": "code",
   "execution_count": 28,
   "metadata": {},
   "outputs": [],
   "source": [
    "score_list = []\n",
    "mean_score_list = []\n",
    "learners_list = [10, 20, 30, 40, 50, 100]\n",
    "for num_learners in [10, 20, 30, 40, 50, 100]:\n",
    "    final_pred = []\n",
    "    for l in range(num_learners):\n",
    "        # creating initial weights\n",
    "        w = getSamplePred(true_values,true_values.shape[0]).to_numpy()\n",
    "        while(True):\n",
    "            # choosing a random combination of the given predictors\n",
    "            for i in range(len(w)):\n",
    "                w[i] = predictors[random.randint(0, num_predictors-1)].iloc[i,0]\n",
    "            # breaking condition for weak learners\n",
    "            if ts.score(w) <= mean_threshold:\n",
    "                break\n",
    "    # num_learners = 3\n",
    "    # final_pred = []\n",
    "    # for l in range(num_learners):\n",
    "    #     # creating initial weights\n",
    "    #     w = getSamplePred(true_values,true_values.shape[0]).to_numpy()\n",
    "    #     for i in range(len(w)):\n",
    "    #         w[i] = predictors[random.randint(0, num_predictors-1)].iloc[i,0]\n",
    "    #     prev_score = 0\n",
    "    #     while(True):\n",
    "    #         # get the gradient \n",
    "    #         h_new = gradient(true_values.copy(),w,predictors)\n",
    "    #         # update the w (f) vector\n",
    "    #         for i in range(true_values.shape[0]):\n",
    "    #             w[i] -= alpha *  predictors[h_new].iloc[i,0]\n",
    "    #             if w[i] < 0:\n",
    "    #                 w[i] = 0\n",
    "    # #         w += alpha*predictors[h_new].to_numpy()\n",
    "    #         # calculate score\n",
    "    #         cur_score = ts.score(w)\n",
    "    #         # threshold criteria\n",
    "    #         if cur_score < mean_threshold:\n",
    "    #             break\n",
    "    #         # adjust alpha for better results\n",
    "    #         elif cur_score < 2 * mean_threshold:\n",
    "    #             alpha = 0.1\n",
    "    #         if abs(prev_score - cur_score) < 0.01:\n",
    "    #             break\n",
    "    #         prev_score = cur_score\n",
    "        final_pred.append(w)\n",
    "    #     print(prev_score)\n",
    "    # boosting prediction\n",
    "    final_predictions = np.asarray(predictFunc(final_pred,true_values.shape[0]))\n",
    "    # appending score for plots\n",
    "    score_list.append(ts.score(final_predictions))\n",
    "    mean_score_list.append(mean_threshold)"
   ]
  },
  {
   "cell_type": "code",
   "execution_count": 29,
   "metadata": {},
   "outputs": [
    {
     "data": {
      "image/png": "[encoded data removed]",
      "text/plain": [
       "<Figure size 432x288 with 1 Axes>"
      ]
     },
     "metadata": {
      "needs_background": "light"
     },
     "output_type": "display_data"
    }
   ],
   "source": [
    "plt.clf()\n",
    "plt.plot(score_list)\n",
    "plt.plot(mean_score_list,label=\"Mean Threshold\")\n",
    "plt.title(\"Score variation\")\n",
    "plt.xlabel(\"num learners\")\n",
    "plt.ylabel(\"Score\")\n",
    "plt.xticks(list(range(len(learners_list))), learners_list)\n",
    "plt.legend()\n",
    "plt.savefig(fname='score.png',format='png')"
   ]
  },
  {
   "cell_type": "code",
   "execution_count": null,
   "metadata": {},
   "outputs": [],
   "source": []
  }
 ],
 "metadata": {
  "kernelspec": {
   "display_name": "myenv",
   "language": "python",
   "name": "myenv"
  },
  "language_info": {
   "codemirror_mode": {
    "name": "ipython",
    "version": 3
   },
   "file_extension": ".py",
   "mimetype": "text/x-python",
   "name": "python",
   "nbconvert_exporter": "python",
   "pygments_lexer": "ipython3",
   "version": "3.7.2"
  }
 },
 "nbformat": 4,
 "nbformat_minor": 2
}
