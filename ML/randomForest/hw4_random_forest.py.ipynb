{
 "cells": [
  {
   "cell_type": "code",
   "execution_count": 1,
   "metadata": {},
   "outputs": [],
   "source": [
    "import pandas as pd\n",
    "import numpy as np\n",
    "from sklearn.tree import DecisionTreeClassifier\n",
    "import matplotlib.pyplot as plt"
   ]
  },
  {
   "cell_type": "code",
   "execution_count": 2,
   "metadata": {},
   "outputs": [],
   "source": [
    "dataset = pd.read_csv('Mushroom.csv', header = None)\n",
    "# shuffling the dataset\n",
    "index = [i for i in range(dataset.shape[0])]\n",
    "np.random.shuffle(index)\n",
    "dataset = dataset.set_index([index]).sort_index()\n",
    "# splitting the first 6000 as training set \n",
    "train_data = dataset.iloc[:6000]\n",
    "# getting the training labels\n",
    "train_labels = train_data[0]\n",
    "# getting the trainging values\n",
    "train_values = train_data.iloc[:,1:]\n",
    "# spltting the rest of the dataset as test set\n",
    "test_data = dataset.iloc[6000:]\n",
    "# getting test lalbels\n",
    "test_labels = test_data[0]\n",
    "# getting test values\n",
    "test_values = test_data.iloc[:,1:]"
   ]
  },
  {
   "cell_type": "code",
   "execution_count": 3,
   "metadata": {},
   "outputs": [],
   "source": [
    "def bagging(predictions, num_size):\n",
    "    # final prediction list\n",
    "    pred_list = []\n",
    "    # for each item\n",
    "    for i in range(num_size):\n",
    "        # prediction list for each item\n",
    "        pred = []\n",
    "        # in each prediction\n",
    "        for j in range(len(predictions)):\n",
    "            pred.append(predictions[j][i])\n",
    "        # get the mode of all all the predictions\n",
    "        pred_list.append(max(set(pred), key=pred.count))\n",
    "    return pred_list"
   ]
  },
  {
   "cell_type": "code",
   "execution_count": 4,
   "metadata": {},
   "outputs": [],
   "source": [
    "def random_forest(train, label, test, num_features, num_trees, sample_size):\n",
    "    # test predictions list\n",
    "    predictions = []\n",
    "    # train predictions list\n",
    "    train_predictions = []\n",
    "    # creating num_trees decision trees with different sampling\n",
    "    for i in range(num_trees):\n",
    "        # shuffling the train and test dataset\n",
    "        for j in [0,1]:\n",
    "            index = [i for i in range(train.shape[j])]\n",
    "            np.random.shuffle(index)\n",
    "            # for row indices\n",
    "            if j == 0:\n",
    "                train = train.set_index([index]).sort_index(axis=j)\n",
    "                label = label.set_index([index]).sort_index(axis=j)\n",
    "            # for feature indices\n",
    "            else:\n",
    "                train = train.iloc[:, index]\n",
    "                test = test.iloc[:, index]\n",
    "        # sub sampling \n",
    "        sample = train.iloc[:sample_size,:num_features]\n",
    "        # building decision tree\n",
    "        decision_tree = DecisionTreeClassifier(random_state=2, max_depth=2, splitter='random').fit(sample.to_numpy(), (label.iloc[:sample_size]).to_numpy())\n",
    "        # appending the test predictions\n",
    "        predictions.append(decision_tree.predict((test.iloc[:,:num_features]).to_numpy()))\n",
    "        # appending the train predictions\n",
    "        train_predictions.append(decision_tree.predict((train.iloc[:,:num_features]).to_numpy()))\n",
    "    # getting the final test predctions\n",
    "    predict = bagging(predictions, test.shape[0])\n",
    "    # getting the final train predctions\n",
    "    train_predict = bagging(train_predictions, train.shape[0])\n",
    "    return predict,train_predict"
   ]
  },
  {
   "cell_type": "code",
   "execution_count": 5,
   "metadata": {},
   "outputs": [],
   "source": [
    "def accuracy_metric(real, predicted):\n",
    "    correct = 0\n",
    "    # for each item\n",
    "    for i in range(len(real)):\n",
    "        # if equal\n",
    "        if real[i] == predicted[i]:\n",
    "            # increment score\n",
    "            correct += 1\n",
    "    return correct / float(len(real)) * 100.0"
   ]
  },
  {
   "cell_type": "code",
   "execution_count": 6,
   "metadata": {},
   "outputs": [],
   "source": [
    "accuracy_features_list = []\n",
    "train_accuracy_features_list = []\n",
    "features_list = [5,10,15,20]\n",
    "# for different number of features in each sample\n",
    "for num_features in features_list:\n",
    "    # Get the test and train predictions\n",
    "    predictions, train_preditcions = random_forest(train_values, train_labels.to_frame(), test_values, num_features, 100, 6000)\n",
    "    # add to accuracy test list\n",
    "    accuracy_features_list.append(accuracy_metric(test_labels.to_numpy(), predictions))\n",
    "    # add to accuracy train list\n",
    "    train_accuracy_features_list.append(accuracy_metric(train_labels.to_numpy(), train_preditcions))\n",
    "    "
   ]
  },
  {
   "cell_type": "code",
   "execution_count": 7,
   "metadata": {},
   "outputs": [],
   "source": [
    "accuracy_num_trees_list = []\n",
    "train_accuracy_num_trees_list = []\n",
    "num_trees_list = [10,20,40,80,100]\n",
    "# for different number of decision trees\n",
    "for num_trees in num_trees_list:\n",
    "    # Get the test and train predictions\n",
    "    predictions, train_preditcions = random_forest(train_values, train_labels.to_frame(), test_values, 20, num_trees, 6000)\n",
    "    # add to accuracy test list\n",
    "    accuracy_num_trees_list.append(accuracy_metric(test_labels.to_numpy(), predictions))\n",
    "    # add to accuracy train list\n",
    "    train_accuracy_num_trees_list.append(accuracy_metric(train_labels.to_numpy(), train_preditcions))"
   ]
  },
  {
   "cell_type": "code",
   "execution_count": 8,
   "metadata": {},
   "outputs": [
    {
     "name": "stdout",
     "output_type": "stream",
     "text": [
      "[89.21845574387947, 92.79661016949152, 91.94915254237289, 94.6798493408663]\n",
      "[91.66666666666666, 94.0677966101695, 92.41996233521658, 91.33709981167608, 94.0677966101695]\n",
      "[51.1, 50.8, 50.11666666666667, 51.05]\n",
      "[49.516666666666666, 49.65, 51.03333333333333, 50.083333333333336, 49.983333333333334]\n"
     ]
    }
   ],
   "source": [
    "print(accuracy_features_list)\n",
    "print(accuracy_num_trees_list)\n",
    "print(train_accuracy_features_list)\n",
    "print(train_accuracy_num_trees_list)"
   ]
  },
  {
   "cell_type": "code",
   "execution_count": 9,
   "metadata": {},
   "outputs": [
    {
     "data": {
      "image/png": "[encoded data removed]",
      "text/plain": [
       "<Figure size 432x288 with 1 Axes>"
      ]
     },
     "metadata": {
      "needs_background": "light"
     },
     "output_type": "display_data"
    }
   ],
   "source": [
    "plt.clf()\n",
    "plt.plot(accuracy_features_list,label=\"Test\")\n",
    "plt.plot(train_accuracy_features_list,label=\"Train\")\n",
    "plt.title(\"Feature set variation\")\n",
    "plt.xlabel(\"feature size\")\n",
    "plt.ylabel(\"Accuracy\")\n",
    "plt.xticks(list(range(len(features_list))), features_list)\n",
    "plt.legend()\n",
    "plt.savefig(fname='Feature_accuracy.png',format='png')"
   ]
  },
  {
   "cell_type": "code",
   "execution_count": 10,
   "metadata": {},
   "outputs": [
    {
     "data": {
      "image/png": "[encoded data removed]",
      "text/plain": [
       "<Figure size 432x288 with 1 Axes>"
      ]
     },
     "metadata": {
      "needs_background": "light"
     },
     "output_type": "display_data"
    }
   ],
   "source": [
    "plt.clf()\n",
    "plt.plot(accuracy_num_trees_list,label=\"Test\")\n",
    "plt.plot(train_accuracy_num_trees_list,label=\"Train\")\n",
    "plt.title(\"Feature set variation\")\n",
    "plt.xlabel(\"feature size\")\n",
    "plt.ylabel(\"Accuracy\")\n",
    "plt.xticks(list(range(len(num_trees_list))), num_trees_list)\n",
    "plt.legend()\n",
    "plt.savefig(fname='Num_trees_accuracy.png',format='png')"
   ]
  },
  {
   "cell_type": "code",
   "execution_count": null,
   "metadata": {},
   "outputs": [],
   "source": []
  }
 ],
 "metadata": {
  "kernelspec": {
   "display_name": "myenv",
   "language": "python",
   "name": "myenv"
  },
  "language_info": {
   "codemirror_mode": {
    "name": "ipython",
    "version": 3
   },
   "file_extension": ".py",
   "mimetype": "text/x-python",
   "name": "python",
   "nbconvert_exporter": "python",
   "pygments_lexer": "ipython3",
   "version": "3.7.2"
  }
 },
 "nbformat": 4,
 "nbformat_minor": 2
}
