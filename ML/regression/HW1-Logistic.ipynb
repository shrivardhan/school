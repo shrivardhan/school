{
 "cells": [
  {
   "cell_type": "code",
   "execution_count": 423,
   "metadata": {},
   "outputs": [],
   "source": [
    "import pandas as pd\n",
    "import numpy as np\n",
    "import matplotlib.pyplot as plt\n",
    "\n",
    "data = pd.read_csv('IRISFeat.csv', header = None)\n",
    "# print(data.head)\n",
    "# mins = np.min(data, axis = 0)\n",
    "# maxs = np.max(data, axis = 0)\n",
    "# data = 1 - ((maxs - data)/(maxs - mins))\n",
    "# print(data.head)\n",
    "index = [i for i in range(data.shape[0])]\n",
    "np.random.shuffle(index)\n",
    "data = data.set_index([index]).sort_index()\n",
    "label = pd.read_csv('IRISlabel.csv', header = None)\n",
    "label = label.set_index([index]).sort_index()\n",
    "k = 5\n",
    "X_shuffled = {}\n",
    "y_shuffled = {}\n",
    "for i in range(0,k):\n",
    "    X_shuffled[i] = data[i::k]\n",
    "    y_shuffled[i] = label[i::k]"
   ]
  },
  {
   "cell_type": "code",
   "execution_count": 424,
   "metadata": {},
   "outputs": [],
   "source": [
    "def get_next_train_valid(X_shuffled, y_shuffled, itr):\n",
    "    X_train = pd.DataFrame()\n",
    "    y_train = pd.DataFrame()\n",
    "    X_valid = pd.DataFrame()\n",
    "    y_valid = pd.DataFrame()\n",
    "    for i in range(0,k):\n",
    "        if i != itr:\n",
    "            X_train = X_train.append(X_shuffled.get(i))\n",
    "            y_train = pd.concat([y_train, y_shuffled.get(i)])\n",
    "        else:\n",
    "            X_valid = X_shuffled.get(i)\n",
    "            y_valid = y_shuffled.get(i)\n",
    "    return X_train, y_train, X_valid, y_valid"
   ]
  },
  {
   "cell_type": "code",
   "execution_count": 430,
   "metadata": {},
   "outputs": [],
   "source": [
    "def train(X_train, y_train):\n",
    "    theta = np.zeros((2,1))\n",
    "    alpha = 0.04\n",
    "    for i in range(0,1000):\n",
    "        h = sigmoid(np.dot(X_train, theta))\n",
    "        theta_d = np.dot(X_train.transpose(),  h - y_train )\n",
    "        theta = theta - alpha*theta_d/y_train.shape[0]\n",
    "    return theta;"
   ]
  },
  {
   "cell_type": "code",
   "execution_count": 431,
   "metadata": {},
   "outputs": [],
   "source": [
    "def sigmoid(x):\n",
    "    return 1 / (1 + np.exp(-x))"
   ]
  },
  {
   "cell_type": "code",
   "execution_count": 432,
   "metadata": {},
   "outputs": [],
   "source": [
    "def predict(X_valid,theta):\n",
    "    y_predict_class = sigmoid(np.dot(X_valid,theta))\n",
    "    for i in range(0,y_predict_class.shape[0]):\n",
    "        if y_predict_class[i] > 0.5:\n",
    "            y_predict_class[i] = 1\n",
    "        else:\n",
    "            y_predict_class[i] = 0\n",
    "    return y_predict_class"
   ]
  },
  {
   "cell_type": "code",
   "execution_count": 433,
   "metadata": {},
   "outputs": [],
   "source": [
    "def calcError(real, predicted):\n",
    "    return np.mean(predicted != real)"
   ]
  },
  {
   "cell_type": "code",
   "execution_count": 434,
   "metadata": {},
   "outputs": [],
   "source": [
    "train_e = 0\n",
    "test_e = 0\n",
    "train_set = []\n",
    "test_set = []\n",
    "for i in range(0,k):\n",
    "    X_train, y_train, X_valid, y_valid = get_next_train_valid(X_shuffled, y_shuffled, i)\n",
    "    theta = train(X_train,y_train)\n",
    "    predicted = predict(X_valid,theta)\n",
    "    predicted_train = predict(X_train,theta)\n",
    "    train_set.append(calcError(predicted_train,y_train))\n",
    "    test_set.append(calcError(predicted,y_valid))\n",
    "    train_e += train_set[-1]\n",
    "    test_e += test_set[-1]"
   ]
  },
  {
   "cell_type": "code",
   "execution_count": 435,
   "metadata": {},
   "outputs": [
    {
     "data": {
      "text/plain": [
       "0    0.006667\n",
       "dtype: float64"
      ]
     },
     "execution_count": 435,
     "metadata": {},
     "output_type": "execute_result"
    }
   ],
   "source": [
    "train_e/k"
   ]
  },
  {
   "cell_type": "code",
   "execution_count": 436,
   "metadata": {},
   "outputs": [
    {
     "data": {
      "text/plain": [
       "0    0.006667\n",
       "dtype: float64"
      ]
     },
     "execution_count": 436,
     "metadata": {},
     "output_type": "execute_result"
    }
   ],
   "source": [
    "test_e/k"
   ]
  },
  {
   "cell_type": "code",
   "execution_count": 406,
   "metadata": {},
   "outputs": [
    {
     "data": {
      "text/plain": [
       "[0    0.008333\n",
       " dtype: float64, 0    0.008333\n",
       " dtype: float64, 0    0.008333\n",
       " dtype: float64, 0    0.008333\n",
       " dtype: float64, 0    0.0\n",
       " dtype: float64]"
      ]
     },
     "execution_count": 406,
     "metadata": {},
     "output_type": "execute_result"
    }
   ],
   "source": [
    "train_set"
   ]
  },
  {
   "cell_type": "code",
   "execution_count": 407,
   "metadata": {},
   "outputs": [
    {
     "data": {
      "text/plain": [
       "[0    0.0\n",
       " dtype: float64, 0    0.0\n",
       " dtype: float64, 0    0.0\n",
       " dtype: float64, 0    0.0\n",
       " dtype: float64, 0    0.033333\n",
       " dtype: float64]"
      ]
     },
     "execution_count": 407,
     "metadata": {},
     "output_type": "execute_result"
    }
   ],
   "source": [
    "test_set"
   ]
  },
  {
   "cell_type": "code",
   "execution_count": null,
   "metadata": {},
   "outputs": [],
   "source": []
  }
 ],
 "metadata": {
  "kernelspec": {
   "display_name": "myenv",
   "language": "python",
   "name": "myenv"
  },
  "language_info": {
   "codemirror_mode": {
    "name": "ipython",
    "version": 3
   },
   "file_extension": ".py",
   "mimetype": "text/x-python",
   "name": "python",
   "nbconvert_exporter": "python",
   "pygments_lexer": "ipython3",
   "version": "3.7.2"
  }
 },
 "nbformat": 4,
 "nbformat_minor": 2
}
