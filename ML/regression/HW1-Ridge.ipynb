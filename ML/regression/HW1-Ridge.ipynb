{
 "cells": [
  {
   "cell_type": "code",
   "execution_count": 312,
   "metadata": {},
   "outputs": [],
   "source": [
    "import pandas as pd\n",
    "import numpy as np\n",
    "import matplotlib.pyplot as plt\n",
    "\n",
    "path = 'Housing.csv'\n",
    "\n",
    "data = pd.read_csv(path)\n",
    "index = [i for i in range(data.shape[0])]\n",
    "np.random.shuffle(index)\n",
    "data = data.set_index([index]).sort_index()\n",
    "y = data[\"PRICE\"]\n",
    "X = data[data.columns.difference(['PRICE'])]\n",
    "# display(X.describe())\n",
    "k = 5\n",
    "X -= X.mean(axis=0, skipna = True)\n",
    "y -= y.mean()\n",
    "X_shuffled = {}\n",
    "y_shuffled = {}\n",
    "rmse_train = []\n",
    "rmse_test = []\n",
    "for i in range(0,k):\n",
    "    X_shuffled[i] = X[i::k]\n",
    "    y_shuffled[i] = y[i::k]"
   ]
  },
  {
   "cell_type": "code",
   "execution_count": 313,
   "metadata": {},
   "outputs": [],
   "source": [
    "def get_next_train_valid(X_shuffled, y_shuffled, itr):\n",
    "    X_train = pd.DataFrame()\n",
    "    y_train = pd.DataFrame()\n",
    "    X_valid = pd.DataFrame()\n",
    "    y_valid = pd.DataFrame()\n",
    "    for i in range(0,k):\n",
    "        if i != itr:\n",
    "            X_train = X_train.append(X_shuffled.get(i))\n",
    "            y_train = pd.concat([y_train, y_shuffled.get(i)])\n",
    "        else:\n",
    "            X_valid = X_shuffled.get(i)\n",
    "            y_valid = y_shuffled.get(i)\n",
    "    return X_train, y_train, X_valid, y_valid"
   ]
  },
  {
   "cell_type": "code",
   "execution_count": 314,
   "metadata": {},
   "outputs": [],
   "source": [
    "def train(X_train, y_train, vlambda):\n",
    "    C = np.dot(X_train.transpose(), X_train) + vlambda*np.matrix(np.identity(np.shape(X_train)[1]))\n",
    "    model_weights = np.dot(np.dot(np.linalg.inv(C),X_train.transpose()),y_train)\n",
    "    model_intercept = y_train.mean()\n",
    "    return model_weights, model_intercept"
   ]
  },
  {
   "cell_type": "code",
   "execution_count": 315,
   "metadata": {},
   "outputs": [],
   "source": [
    "def predict(X_valid, model_weights, model_intercept):\n",
    "    y_predict = np.dot(X_valid,model_weights) + model_intercept[0]\n",
    "    return y_predict"
   ]
  },
  {
   "cell_type": "code",
   "execution_count": 316,
   "metadata": {},
   "outputs": [],
   "source": [
    "def RMSE():\n",
    "    for vlambda in range(0,100):\n",
    "        splitData(k);\n",
    "        cur_rmse_train = 0\n",
    "        cur_rmse_test = 0\n",
    "        for i in range(0,k):\n",
    "            X_train, y_train, X_valid, y_valid = get_next_train_valid(X_shuffled, y_shuffled, i)\n",
    "            model_weights, model_intercept = train(X_train, y_train, vlambda)\n",
    "            y_predict = predict(X_valid, model_weights, model_intercept)\n",
    "            cur_rmse_train += np.sqrt(((pd.DataFrame(y_predict.flatten().transpose()).values - y_valid.values)**2).mean())\n",
    "            cur_rmse_test += np.sqrt(((pd.DataFrame(predict(X_train, model_weights, model_intercept).flatten().transpose()).values - y_train.values)**2).mean())\n",
    "        rmse_train.append(cur_rmse_train/k);\n",
    "        rmse_test.append(cur_rmse_test/k);\n"
   ]
  },
  {
   "cell_type": "code",
   "execution_count": 317,
   "metadata": {},
   "outputs": [],
   "source": [
    "RMSE()"
   ]
  },
  {
   "cell_type": "code",
   "execution_count": 318,
   "metadata": {},
   "outputs": [
    {
     "data": {
      "text/plain": [
       "<matplotlib.legend.Legend at 0x120128c18>"
      ]
     },
     "execution_count": 318,
     "metadata": {},
     "output_type": "execute_result"
    },
    {
     "data": {
      "image/png": "[encoded data removed]",
      "text/plain": [
       "<Figure size 432x288 with 1 Axes>"
      ]
     },
     "metadata": {
      "needs_background": "light"
     },
     "output_type": "display_data"
    }
   ],
   "source": [
    "plt.clf()\n",
    "plt.plot(rmse_test,label=\"Test\")\n",
    "plt.plot(rmse_train,label=\"Train\")\n",
    "plt.title(\"Validation RMSE\")\n",
    "plt.xlabel(\"lambda\")\n",
    "plt.ylabel(\"RMSE\")\n",
    "plt.legend()"
   ]
  },
  {
   "cell_type": "code",
   "execution_count": 263,
   "metadata": {},
   "outputs": [
    {
     "name": "stdout",
     "output_type": "stream",
     "text": [
      "rmse train values\n",
      "[12.08253508973215, 12.053010369660944, 12.043338869821849, 12.037155408094485, 12.032101988548359, 12.027570483300488, 12.023347048422162, 12.019338929086487, 12.01549883148338, 12.01179923056582, 12.008222262360022, 12.004755271614297, 12.001388661587946, 11.998114771152174, 11.994927246687073, 11.991820668433956, 11.988790315495375, 11.985832010418559, 11.98294201168975, 11.980116936361647, 11.977353702415929, 11.974649484536478, 11.972001679308912, 11.96940787724833, 11.96686583990957, 11.964373480870425, 11.961928849728631, 11.959530118487217, 11.957175569861688, 11.95486358715551, 11.952592645430908, 11.95036130375936, 11.948168198382058, 11.946012036642031, 11.943891591575971, 11.941805697073622, 11.939753243528383, 11.937733173914669, 11.93574448023892, 11.93378620031805, 11.931857414847018, 11.929957244721775, 11.928084848589359, 11.926239420600272, 11.92442018834158, 11.922626410932285, 11.920857377264397, 11.91911240437538, 11.917390835939514, 11.915692040866944, 11.914015412000499, 11.912360364901403, 11.910726336716497, 11.9091127851195, 11.907519187320469, 11.905945039137462, 11.904389854125986, 11.902853162760854, 11.90133451166732, 11.899833462896888, 11.898349593245163, 11.896882493608265, 11.895431768374985, 11.893997034852699, 11.892577922723873, 11.891174073532094, 11.889785140194515, 11.88841078654004, 11.887050686870737, 11.885704525545648, 11.88437199658507, 11.883052803294493, 11.881746657906604, 11.880453281240552, 11.879172402377304, 11.877903758350202, 11.8766470938499, 11.875402160942766, 11.874168718802014, 11.872946533450923, 11.871735377517453, 11.870535029999584, 11.869345276040935, 11.868165906715955, 11.866996718824318, 11.865837514694027, 11.864688101992709, 11.863548293546767, 11.86241790716799, 11.861296765487163, 11.86018469579449, 11.85908152988635, 11.857987103918157, 11.85690125826306, 11.855823837376118, 11.854754689663798, 11.853693667358453, 11.852640626397644, 11.851595426308002, 11.850557930093522]\n",
      "rmse test values\n",
      "[4.647808688105334, 4.6678697643960145, 4.686082521553199, 4.6982053424908585, 4.706749731960813, 4.713173321972701, 4.718269161383871, 4.722490755771105, 4.726112182447226, 4.729307255648145, 4.732190743522677, 4.734841023368739, 4.737313157790396, 4.739646769895425, 4.74187096387909, 4.744007499138119, 4.746072895534724, 4.748079864243915, 4.750038301441545, 4.751955991766982, 4.753839114950919, 4.755692616364627, 4.757520481852332, 4.759325944173073, 4.761111639873609, 4.762879729761688, 4.764631992327419, 4.766369896836266, 4.768094660989215, 4.769807296755063, 4.7715086470573755, 4.773199415332289, 4.7748801894857, 4.776551461419372, 4.778213643027469, 4.779867079364, 4.781512059529089, 4.783148825705834, 4.784777580689749, 4.786398494183731, 4.788011708077202, 4.7896173408859735, 4.791215491495583, 4.792806242324657, 4.794389662003397, 4.795965807645457, 4.797534726777696, 4.799096458981374, 4.8006510372890245, 4.802198489374268, 4.803738838565441, 4.805272104709281, 4.806798304906376, 4.808317454137157, 4.809829565793984, 4.811334652132769, 4.812832724655381, 4.814323794432686, 4.815807872376296, 4.81728496946634, 4.818755096941202, 4.82021826645453, 4.821674490204086, 4.823123781036171, 4.8245661525292025, 4.826001619059147, 4.827430195849531, 4.8288518990080345, 4.83026674555172, 4.831674753422421, 4.8330759414938225, 4.834470329571364, 4.8358579383861935, 4.837238789583994, 4.838612905709548, 4.839980310187765, 4.841341027301786, 4.842695082168643, 4.844042500713078, 4.845383309639786, 4.846717536404518, 4.848045209184322, 4.8493663568471925, 4.8506810089213666, 4.851989195564416, 4.853290947532392, 4.854586296149046, 4.855875273275393, 4.8571579112795575, 4.858434243007158, 4.859704301752166, 4.8609681212283515, 4.862225735541419, 4.863477179161758, 4.864722486897927, 4.865961693870888, 4.867194835488969, 4.868421947423568, 4.8696430655856835, 4.870858226103161]\n"
     ]
    }
   ],
   "source": [
    "print('rmse train values')\n",
    "print(rmse_train)\n"
   ]
  },
  {
   "cell_type": "code",
   "execution_count": null,
   "metadata": {},
   "outputs": [],
   "source": [
    "print('rmse test values')\n",
    "print(rmse_test)"
   ]
  }
 ],
 "metadata": {
  "kernelspec": {
   "display_name": "myenv",
   "language": "python",
   "name": "myenv"
  },
  "language_info": {
   "codemirror_mode": {
    "name": "ipython",
    "version": 3
   },
   "file_extension": ".py",
   "mimetype": "text/x-python",
   "name": "python",
   "nbconvert_exporter": "python",
   "pygments_lexer": "ipython3",
   "version": "3.7.2"
  }
 },
 "nbformat": 4,
 "nbformat_minor": 2
}
