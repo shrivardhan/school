{
 "cells": [
  {
   "cell_type": "code",
   "execution_count": 312,
   "metadata": {},
   "outputs": [],
   "source": [
    "import pandas as pd\n",
    "import numpy as np\n",
    "import matplotlib.pyplot as plt\n",
    "\n",
    "path = 'Housing.csv'\n",
    "\n",
    "data = pd.read_csv(path)\n",
    "index = [i for i in range(data.shape[0])]\n",
    "np.random.shuffle(index)\n",
    "data = data.set_index([index]).sort_index()\n",
    "y = data[\"PRICE\"]\n",
    "X = data[data.columns.difference(['PRICE'])]\n",
    "# display(X.describe())\n",
    "k = 5\n",
    "X -= X.mean(axis=0, skipna = True)\n",
    "y -= y.mean()\n",
    "X_shuffled = {}\n",
    "y_shuffled = {}\n",
    "rmse_train = []\n",
    "rmse_test = []\n",
    "for i in range(0,k):\n",
    "    X_shuffled[i] = X[i::k]\n",
    "    y_shuffled[i] = y[i::k]"
   ]
  },
  {
   "cell_type": "code",
   "execution_count": 313,
   "metadata": {},
   "outputs": [],
   "source": [
    "def get_next_train_valid(X_shuffled, y_shuffled, itr):\n",
    "    X_train = pd.DataFrame()\n",
    "    y_train = pd.DataFrame()\n",
    "    X_valid = pd.DataFrame()\n",
    "    y_valid = pd.DataFrame()\n",
    "    for i in range(0,k):\n",
    "        if i != itr:\n",
    "            X_train = X_train.append(X_shuffled.get(i))\n",
    "            y_train = pd.concat([y_train, y_shuffled.get(i)])\n",
    "        else:\n",
    "            X_valid = X_shuffled.get(i)\n",
    "            y_valid = y_shuffled.get(i)\n",
    "    return X_train, y_train, X_valid, y_valid"
   ]
  },
  {
   "cell_type": "code",
   "execution_count": 314,
   "metadata": {},
   "outputs": [],
   "source": [
    "def train(X_train, y_train, vlambda):\n",
    "    C = np.dot(X_train.transpose(), X_train) + vlambda*np.matrix(np.identity(np.shape(X_train)[1]))\n",
    "    model_weights = np.dot(np.dot(np.linalg.inv(C),X_train.transpose()),y_train)\n",
    "    model_intercept = y_train.mean()\n",
    "    return model_weights, model_intercept"
   ]
  },
  {
   "cell_type": "code",
   "execution_count": 315,
   "metadata": {},
   "outputs": [],
   "source": [
    "def predict(X_valid, model_weights, model_intercept):\n",
    "    y_predict = np.dot(X_valid,model_weights) + model_intercept[0]\n",
    "    return y_predict"
   ]
  },
  {
   "cell_type": "code",
   "execution_count": 316,
   "metadata": {},
   "outputs": [],
   "source": [
    "def RMSE():\n",
    "    for vlambda in range(0,100):\n",
    "        splitData(k);\n",
    "        cur_rmse_train = 0\n",
    "        cur_rmse_test = 0\n",
    "        for i in range(0,k):\n",
    "            X_train, y_train, X_valid, y_valid = get_next_train_valid(X_shuffled, y_shuffled, i)\n",
    "            model_weights, model_intercept = train(X_train, y_train, vlambda)\n",
    "            y_predict = predict(X_valid, model_weights, model_intercept)\n",
    "            cur_rmse_train += np.sqrt(((pd.DataFrame(y_predict.flatten().transpose()).values - y_valid.values)**2).mean())\n",
    "            cur_rmse_test += np.sqrt(((pd.DataFrame(predict(X_train, model_weights, model_intercept).flatten().transpose()).values - y_train.values)**2).mean())\n",
    "        rmse_train.append(cur_rmse_train/k);\n",
    "        rmse_test.append(cur_rmse_test/k);\n"
   ]
  },
  {
   "cell_type": "code",
   "execution_count": 317,
   "metadata": {},
   "outputs": [],
   "source": [
    "RMSE()"
   ]
  }
 ],
 "metadata": {
  "kernelspec": {
   "display_name": "myenv",
   "language": "python",
   "name": "myenv"
  },
  "language_info": {
   "codemirror_mode": {
    "name": "ipython",
    "version": 3
   },
   "file_extension": ".py",
   "mimetype": "text/x-python",
   "name": "python",
   "nbconvert_exporter": "python",
   "pygments_lexer": "ipython3",
   "version": "3.7.2"
  }
 },
 "nbformat": 4,
 "nbformat_minor": 2
}
